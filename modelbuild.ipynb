{
 "cells": [
  {
   "cell_type": "code",
   "execution_count": 1,
   "metadata": {},
   "outputs": [],
   "source": [
    "import pandas as pd"
   ]
  },
  {
   "cell_type": "code",
   "execution_count": 2,
   "metadata": {},
   "outputs": [],
   "source": [
    "\n",
    "data = pd.read_csv('F:\\kutty\\severeinjury1.csv',encoding='cp1252')"
   ]
  },
  {
   "cell_type": "code",
   "execution_count": 3,
   "metadata": {},
   "outputs": [],
   "source": [
    "\n",
    "import nltk"
   ]
  },
  {
   "cell_type": "code",
   "execution_count": 4,
   "metadata": {},
   "outputs": [],
   "source": [
    "from nltk.tokenize import WhitespaceTokenizer"
   ]
  },
  {
   "cell_type": "code",
   "execution_count": 7,
   "metadata": {},
   "outputs": [],
   "source": [
    "from nltk.stem.snowball import SnowballStemmer\n",
    "stemming = SnowballStemmer(\"english\")"
   ]
  },
  {
   "cell_type": "code",
   "execution_count": 8,
   "metadata": {},
   "outputs": [],
   "source": [
    "data[\"narrative\"]= data[\"title.new\"]+data[\"summary.new\"]"
   ]
  },
  {
   "cell_type": "code",
   "execution_count": 10,
   "metadata": {},
   "outputs": [],
   "source": [
    "\n",
    "def identify_tokens(row):\n",
    "    summary_title = row[\"narrative\"]\n",
    "    tokens = nltk.word_tokenize(summary_title)\n",
    "    token_words = [ w for w in tokens if w.isalpha()]\n",
    "    return token_words"
   ]
  },
  {
   "cell_type": "code",
   "execution_count": 11,
   "metadata": {},
   "outputs": [],
   "source": [
    "data['words']= data.apply(identify_tokens,axis=1)"
   ]
  },
  {
   "cell_type": "code",
   "execution_count": 12,
   "metadata": {},
   "outputs": [
    {
     "data": {
      "text/plain": [
       "0      [two, workers, are, struck, by, motor, vehicle...\n",
       "1      [foreman, is, fatally, crushed, when, forklift...\n",
       "2      [employee, suffers, abdominal, fracture, in, f...\n",
       "3      [employee, body, is, caught, in, asphalt, mach...\n",
       "4      [employee, is, punctured, in, abdomen, with, n...\n",
       "5      [carpenter, is, injured, in, fall, from, ceili...\n",
       "6      [pipeline, worker, is, struck, and, injured, b...\n",
       "7      [employee, crushes, leg, suffers, possible, fr...\n",
       "8      [worker, falls, from, roof, and, breaks, arm, ...\n",
       "9      [driver, hurt, when, truck, unloading, sand, o...\n",
       "10     [tile, setter, sustains, injuries, in, fall, f...\n",
       "11     [crane, operator, incurs, knee, injury, when, ...\n",
       "12     [employee, is, killed, in, fall, from, suspens...\n",
       "13     [employee, killed, in, fall, from, man, lift, ...\n",
       "14     [employee, killed, in, fall, from, roof, On, m...\n",
       "15     [employee, thigh, lacerated, with, abrasive, f...\n",
       "16     [asphyxiated, in, rail, car, air, compressor, ...\n",
       "17     [employee, killed, in, fall, from, telecommuni...\n",
       "18     [worker, is, struck, by, abrasive, disk, from,...\n",
       "19     [worker, lacerates, hand, on, angle, grinder, ...\n",
       "20     [abrasive, wheel, cut, off, saw, breaks, and, ...\n",
       "21     [employee, cuts, his, thumb, with, a, grinding...\n",
       "22     [employee, face, is, injured, by, flying, obje...\n",
       "23     [employee, is, injured, while, cutting, railin...\n",
       "24     [employee, hand, lacerated, by, abrasive, whee...\n",
       "25     [worker, finger, is, broken, in, unintended, m...\n",
       "26     [employee, is, killed, when, struck, by, vehic...\n",
       "27     [employee, injured, in, fall, from, roof, On, ...\n",
       "28     [employee, dies, after, exposure, and, allergi...\n",
       "29     [employee, eye, is, burned, by, wet, concrete,...\n",
       "                             ...                        \n",
       "970    [employee, falls, ft, in, bridging, operation,...\n",
       "971    [employee, is, struck, and, killed, by, truck,...\n",
       "972    [employee, is, injured, when, struck, by, rigg...\n",
       "973    [employee, falls, from, elevation, and, is, ki...\n",
       "974    [employee, killed, in, fall, from, bridge, Two...\n",
       "975    [employee, injured, in, fall, when, support, b...\n",
       "976    [employee, falls, to, his, death, after, fall,...\n",
       "977    [employee, killed, in, fall, from, bridge, und...\n",
       "978    [employee, injured, when, falsework, collapses...\n",
       "979    [employee, killed, in, fall, when, walkway, co...\n",
       "980    [employee, killed, in, fall, when, bridge, for...\n",
       "981    [employee, foot, injured, by, falling, bridge,...\n",
       "982    [employee, is, struck, by, falling, object, an...\n",
       "983    [employee, foot, injured, while, bridging, On,...\n",
       "984    [employee, legs, amputated, by, rock, crusher,...\n",
       "985    [employee, spine, is, fractured, in, fall, fro...\n",
       "986    [employee, struck, by, bar, joist, On, decembe...\n",
       "987    [employee, injured, when, struck, by, steel, b...\n",
       "988    [employee, is, struck, by, broken, boom, and, ...\n",
       "989    [employee, injured, in, fall, when, scaffold, ...\n",
       "990    [two, employees, killed, in, fall, when, gondo...\n",
       "991    [employee, is, killed, when, crane, cable, fai...\n",
       "992    [employee, killed, in, fall, from, hoist, line...\n",
       "993    [employee, dies, after, being, struck, by, bro...\n",
       "994    [employee, injured, in, fall, when, ejected, f...\n",
       "995    [two, employees, are, killed, in, fall, when, ...\n",
       "996    [employee, suffered, face, injury, from, a, br...\n",
       "997    [machine, operator, is, injured, while, removi...\n",
       "998    [two, employees, are, killed, when, struck, by...\n",
       "999    [employee, fall, from, roof, and, sustains, mu...\n",
       "Name: words, Length: 1000, dtype: object"
      ]
     },
     "execution_count": 12,
     "metadata": {},
     "output_type": "execute_result"
    }
   ],
   "source": [
    "data['words']"
   ]
  },
  {
   "cell_type": "code",
   "execution_count": 13,
   "metadata": {},
   "outputs": [],
   "source": [
    "def stem_list(row):\n",
    "    my_list = row['words']\n",
    "    stemmed_list = [stemming.stem(word) for word in my_list]\n",
    "    return(stemmed_list)\n",
    "\n",
    "data['stemmed_words'] = data.apply(stem_list, axis=1)"
   ]
  },
  {
   "cell_type": "code",
   "execution_count": 14,
   "metadata": {},
   "outputs": [
    {
     "data": {
      "text/plain": [
       "0      [two, worker, are, struck, by, motor, vehicl, ...\n",
       "1      [foreman, is, fatal, crush, when, forklift, ti...\n",
       "2      [employe, suffer, abdomin, fractur, in, fall, ...\n",
       "3      [employe, bodi, is, caught, in, asphalt, machi...\n",
       "4      [employe, is, punctur, in, abdomen, with, nail...\n",
       "5      [carpent, is, injur, in, fall, from, ceil, joi...\n",
       "6      [pipelin, worker, is, struck, and, injur, by, ...\n",
       "7      [employe, crush, leg, suffer, possibl, fractur...\n",
       "8      [worker, fall, from, roof, and, break, arm, on...\n",
       "9      [driver, hurt, when, truck, unload, sand, over...\n",
       "10     [tile, setter, sustain, injuri, in, fall, from...\n",
       "11     [crane, oper, incur, knee, injuri, when, crane...\n",
       "12     [employe, is, kill, in, fall, from, suspens, s...\n",
       "13     [employe, kill, in, fall, from, man, lift, on,...\n",
       "14     [employe, kill, in, fall, from, roof, on, may,...\n",
       "15     [employe, thigh, lacer, with, abras, from, mac...\n",
       "16     [asphyxi, in, rail, car, air, compressor, fail...\n",
       "17     [employe, kill, in, fall, from, telecommun, to...\n",
       "18     [worker, is, struck, by, abras, disk, from, co...\n",
       "19     [worker, lacer, hand, on, angl, grinder, use, ...\n",
       "20     [abras, wheel, cut, off, saw, break, and, cut,...\n",
       "21     [employe, cut, his, thumb, with, a, grind, whe...\n",
       "22     [employe, face, is, injur, by, fli, object, at...\n",
       "23     [employe, is, injur, while, cut, rail, with, a...\n",
       "24     [employe, hand, lacer, by, abras, wheel, at, a...\n",
       "25     [worker, finger, is, broken, in, unintend, mac...\n",
       "26     [employe, is, kill, when, struck, by, vehicl, ...\n",
       "27     [employe, injur, in, fall, from, roof, on, oct...\n",
       "28     [employe, die, after, exposur, and, allerg, re...\n",
       "29     [employe, eye, is, burn, by, wet, concret, at,...\n",
       "                             ...                        \n",
       "970    [employe, fall, ft, in, bridg, oper, later, di...\n",
       "971    [employe, is, struck, and, kill, by, truck, at...\n",
       "972    [employe, is, injur, when, struck, by, rig, on...\n",
       "973    [employe, fall, from, elev, and, is, kill, on,...\n",
       "974    [employe, kill, in, fall, from, bridg, two, em...\n",
       "975    [employe, injur, in, fall, when, support, beam...\n",
       "976    [employe, fall, to, his, death, after, fall, p...\n",
       "977    [employe, kill, in, fall, from, bridg, under, ...\n",
       "978    [employe, injur, when, falsework, collaps, and...\n",
       "979    [employe, kill, in, fall, when, walkway, colla...\n",
       "980    [employe, kill, in, fall, when, bridg, form, c...\n",
       "981    [employe, foot, injur, by, fall, bridg, suppor...\n",
       "982    [employe, is, struck, by, fall, object, and, i...\n",
       "983    [employe, foot, injur, while, bridg, on, april...\n",
       "984    [employe, leg, amput, by, rock, crusher, emplo...\n",
       "985    [employe, spine, is, fractur, in, fall, from, ...\n",
       "986    [employe, struck, by, bar, joist, on, decemb, ...\n",
       "987    [employe, injur, when, struck, by, steel, brid...\n",
       "988    [employe, is, struck, by, broken, boom, and, d...\n",
       "989    [employe, injur, in, fall, when, scaffold, cab...\n",
       "990    [two, employe, kill, in, fall, when, gondola, ...\n",
       "991    [employe, is, kill, when, crane, cabl, fail, a...\n",
       "992    [employe, kill, in, fall, from, hoist, line, o...\n",
       "993    [employe, die, after, be, struck, by, broken, ...\n",
       "994    [employe, injur, in, fall, when, eject, from, ...\n",
       "995    [two, employe, are, kill, in, fall, when, scaf...\n",
       "996    [employe, suffer, face, injuri, from, a, broke...\n",
       "997    [machin, oper, is, injur, while, remov, pile, ...\n",
       "998    [two, employe, are, kill, when, struck, by, st...\n",
       "999    [employe, fall, from, roof, and, sustain, mult...\n",
       "Name: stemmed_words, Length: 1000, dtype: object"
      ]
     },
     "execution_count": 14,
     "metadata": {},
     "output_type": "execute_result"
    }
   ],
   "source": [
    "data['stemmed_words']"
   ]
  },
  {
   "cell_type": "code",
   "execution_count": 15,
   "metadata": {},
   "outputs": [],
   "source": [
    "from nltk.corpus import stopwords\n",
    "stops = set(stopwords.words(\"english\"))                  \n",
    "\n",
    "def remove_stops(row):\n",
    "    my_list = row['stemmed_words']\n",
    "    meaningful_words = [w for w in my_list if not w in stops]\n",
    "    return (meaningful_words)\n",
    "\n",
    "data['stem_meaningful'] = data.apply(remove_stops, axis=1)"
   ]
  },
  {
   "cell_type": "code",
   "execution_count": 16,
   "metadata": {},
   "outputs": [
    {
     "data": {
      "text/plain": [
       "0      [two, worker, struck, motor, vehicl, one, kill...\n",
       "1      [foreman, fatal, crush, forklift, tip, approxi...\n",
       "2      [employe, suffer, abdomin, fractur, fall, ladd...\n",
       "3      [employe, bodi, caught, asphalt, machin, die, ...\n",
       "4      [employe, punctur, abdomen, nail, approxim, se...\n",
       "5      [carpent, injur, fall, ceil, joist, decemb, em...\n",
       "6      [pipelin, worker, struck, injur, fall, cement,...\n",
       "7      [employe, crush, leg, suffer, possibl, fractur...\n",
       "8      [worker, fall, roof, break, arm, june, employe...\n",
       "9      [driver, hurt, truck, unload, sand, overturn, ...\n",
       "10     [tile, setter, sustain, injuri, fall, ladder, ...\n",
       "11     [crane, oper, incur, knee, injuri, crane, tip,...\n",
       "12     [employe, kill, fall, suspens, scaffold, octob...\n",
       "13     [employe, kill, fall, man, lift, march, employ...\n",
       "14     [employe, kill, fall, roof, may, employe, perf...\n",
       "15     [employe, thigh, lacer, abras, machin, approxi...\n",
       "16     [asphyxi, rail, car, air, compressor, fail, em...\n",
       "17     [employe, kill, fall, telecommun, tower, emplo...\n",
       "18     [worker, struck, abras, disk, concret, machin,...\n",
       "19     [worker, lacer, hand, angl, grinder, use, conc...\n",
       "20     [abras, wheel, cut, saw, break, cut, employe, ...\n",
       "21     [employe, cut, thumb, grind, wheel, march, emp...\n",
       "22     [employe, face, injur, fli, object, approxim, ...\n",
       "23     [employe, injur, cut, rail, angl, grinder, app...\n",
       "24     [employe, hand, lacer, abras, wheel, approxim,...\n",
       "25     [worker, finger, broken, unintend, machin, act...\n",
       "26     [employe, kill, struck, vehicl, novemb, employ...\n",
       "27     [employe, injur, fall, roof, octob, employe, p...\n",
       "28     [employe, die, exposur, allerg, reaction, dece...\n",
       "29     [employe, eye, burn, wet, concret, septemb, em...\n",
       "                             ...                        \n",
       "970    [employe, fall, ft, bridg, oper, later, die, a...\n",
       "971    [employe, struck, kill, truck, construct, site...\n",
       "972    [employe, injur, struck, rig, juli, employe, b...\n",
       "973    [employe, fall, elev, kill, juli, employe, abl...\n",
       "974    [employe, kill, fall, bridg, two, employe, ins...\n",
       "975    [employe, injur, fall, support, beam, break, j...\n",
       "976    [employe, fall, death, fall, protect, fail, ju...\n",
       "977    [employe, kill, fall, bridg, construct, septem...\n",
       "978    [employe, injur, falsework, collaps, fall, app...\n",
       "979    [employe, kill, fall, walkway, collaps, employ...\n",
       "980    [employe, kill, fall, bridg, form, collaps, em...\n",
       "981    [employe, foot, injur, fall, bridg, support, b...\n",
       "982    [employe, struck, fall, object, kill, may, emp...\n",
       "983    [employe, foot, injur, bridg, april, employe, ...\n",
       "984    [employe, leg, amput, rock, crusher, employe, ...\n",
       "985    [employe, spine, fractur, fall, elev, level, d...\n",
       "986    [employe, struck, bar, joist, decemb, employe,...\n",
       "987    [employe, injur, struck, steel, bridg, approxi...\n",
       "988    [employe, struck, broken, boom, die, juli, emp...\n",
       "989    [employe, injur, fall, scaffold, cabl, snap, n...\n",
       "990    [two, employe, kill, fall, gondola, cabl, brea...\n",
       "991    [employe, kill, crane, cabl, fail, releas, loa...\n",
       "992    [employe, kill, fall, hoist, line, communic, t...\n",
       "993    [employe, die, struck, broken, cabl, approxim,...\n",
       "994    [employe, injur, fall, eject, truck, bucket, s...\n",
       "995    [two, employe, kill, fall, scaffold, cabl, bro...\n",
       "996    [employe, suffer, face, injuri, broken, cabl, ...\n",
       "997    [machin, oper, injur, remov, pile, march, empl...\n",
       "998    [two, employe, kill, struck, steel, sheet, jan...\n",
       "999    [employe, fall, roof, sustain, multipl, fractu...\n",
       "Name: stem_meaningful, Length: 1000, dtype: object"
      ]
     },
     "execution_count": 16,
     "metadata": {},
     "output_type": "execute_result"
    }
   ],
   "source": [
    "data['stem_meaningful']"
   ]
  },
  {
   "cell_type": "code",
   "execution_count": 17,
   "metadata": {},
   "outputs": [],
   "source": [
    "from sklearn.feature_extraction.text import TfidfVectorizer\n",
    "import math"
   ]
  },
  {
   "cell_type": "code",
   "execution_count": 18,
   "metadata": {},
   "outputs": [],
   "source": [
    "data['stem_meaningful'] = [\"  \".join(review) for review in data['stem_meaningful'].values]"
   ]
  },
  {
   "cell_type": "code",
   "execution_count": 19,
   "metadata": {},
   "outputs": [
    {
     "data": {
      "text/plain": [
       "0      two  worker  struck  motor  vehicl  one  kill ...\n",
       "1      foreman  fatal  crush  forklift  tip  approxim...\n",
       "2      employe  suffer  abdomin  fractur  fall  ladde...\n",
       "3      employe  bodi  caught  asphalt  machin  die  n...\n",
       "4      employe  punctur  abdomen  nail  approxim  sep...\n",
       "5      carpent  injur  fall  ceil  joist  decemb  emp...\n",
       "6      pipelin  worker  struck  injur  fall  cement  ...\n",
       "7      employe  crush  leg  suffer  possibl  fractur ...\n",
       "8      worker  fall  roof  break  arm  june  employe ...\n",
       "9      driver  hurt  truck  unload  sand  overturn  j...\n",
       "10     tile  setter  sustain  injuri  fall  ladder  a...\n",
       "11     crane  oper  incur  knee  injuri  crane  tip  ...\n",
       "12     employe  kill  fall  suspens  scaffold  octob ...\n",
       "13     employe  kill  fall  man  lift  march  employe...\n",
       "14     employe  kill  fall  roof  may  employe  perfo...\n",
       "15     employe  thigh  lacer  abras  machin  approxim...\n",
       "16     asphyxi  rail  car  air  compressor  fail  emp...\n",
       "17     employe  kill  fall  telecommun  tower  employ...\n",
       "18     worker  struck  abras  disk  concret  machin  ...\n",
       "19     worker  lacer  hand  angl  grinder  use  concr...\n",
       "20     abras  wheel  cut  saw  break  cut  employe  f...\n",
       "21     employe  cut  thumb  grind  wheel  march  empl...\n",
       "22     employe  face  injur  fli  object  approxim  j...\n",
       "23     employe  injur  cut  rail  angl  grinder  appr...\n",
       "24     employe  hand  lacer  abras  wheel  approxim  ...\n",
       "25     worker  finger  broken  unintend  machin  acti...\n",
       "26     employe  kill  struck  vehicl  novemb  employe...\n",
       "27     employe  injur  fall  roof  octob  employe  pr...\n",
       "28     employe  die  exposur  allerg  reaction  decem...\n",
       "29     employe  eye  burn  wet  concret  septemb  emp...\n",
       "                             ...                        \n",
       "970    employe  fall  ft  bridg  oper  later  die  au...\n",
       "971    employe  struck  kill  truck  construct  site ...\n",
       "972    employe  injur  struck  rig  juli  employe  br...\n",
       "973    employe  fall  elev  kill  juli  employe  abl ...\n",
       "974    employe  kill  fall  bridg  two  employe  inst...\n",
       "975    employe  injur  fall  support  beam  break  ju...\n",
       "976    employe  fall  death  fall  protect  fail  jun...\n",
       "977    employe  kill  fall  bridg  construct  septemb...\n",
       "978    employe  injur  falsework  collaps  fall  appr...\n",
       "979    employe  kill  fall  walkway  collaps  employe...\n",
       "980    employe  kill  fall  bridg  form  collaps  emp...\n",
       "981    employe  foot  injur  fall  bridg  support  be...\n",
       "982    employe  struck  fall  object  kill  may  empl...\n",
       "983    employe  foot  injur  bridg  april  employe  c...\n",
       "984    employe  leg  amput  rock  crusher  employe  o...\n",
       "985    employe  spine  fractur  fall  elev  level  de...\n",
       "986    employe  struck  bar  joist  decemb  employe  ...\n",
       "987    employe  injur  struck  steel  bridg  approxim...\n",
       "988    employe  struck  broken  boom  die  juli  empl...\n",
       "989    employe  injur  fall  scaffold  cabl  snap  no...\n",
       "990    two  employe  kill  fall  gondola  cabl  break...\n",
       "991    employe  kill  crane  cabl  fail  releas  load...\n",
       "992    employe  kill  fall  hoist  line  communic  to...\n",
       "993    employe  die  struck  broken  cabl  approxim  ...\n",
       "994    employe  injur  fall  eject  truck  bucket  se...\n",
       "995    two  employe  kill  fall  scaffold  cabl  brok...\n",
       "996    employe  suffer  face  injuri  broken  cabl  f...\n",
       "997    machin  oper  injur  remov  pile  march  emplo...\n",
       "998    two  employe  kill  struck  steel  sheet  janu...\n",
       "999    employe  fall  roof  sustain  multipl  fractur...\n",
       "Name: stem_meaningful, Length: 1000, dtype: object"
      ]
     },
     "execution_count": 19,
     "metadata": {},
     "output_type": "execute_result"
    }
   ],
   "source": [
    "data['stem_meaningful']"
   ]
  },
  {
   "cell_type": "code",
   "execution_count": 20,
   "metadata": {},
   "outputs": [],
   "source": [
    "import numpy as np\n",
    "from sklearn.feature_extraction.text import TfidfVectorizer\n",
    "v=TfidfVectorizer()"
   ]
  },
  {
   "cell_type": "code",
   "execution_count": 21,
   "metadata": {},
   "outputs": [],
   "source": [
    "x=v.fit_transform(data['stem_meaningful'])"
   ]
  },
  {
   "cell_type": "code",
   "execution_count": 22,
   "metadata": {},
   "outputs": [
    {
     "data": {
      "text/plain": [
       "<1000x4285 sparse matrix of type '<type 'numpy.float64'>'\n",
       "\twith 45049 stored elements in Compressed Sparse Row format>"
      ]
     },
     "execution_count": 22,
     "metadata": {},
     "output_type": "execute_result"
    }
   ],
   "source": [
    "\n",
    "x"
   ]
  },
  {
   "cell_type": "code",
   "execution_count": 23,
   "metadata": {},
   "outputs": [],
   "source": [
    "first_vector_v = x[0]"
   ]
  },
  {
   "cell_type": "code",
   "execution_count": 26,
   "metadata": {},
   "outputs": [
    {
     "data": {
      "text/html": [
       "<div>\n",
       "<style scoped>\n",
       "    .dataframe tbody tr th:only-of-type {\n",
       "        vertical-align: middle;\n",
       "    }\n",
       "\n",
       "    .dataframe tbody tr th {\n",
       "        vertical-align: top;\n",
       "    }\n",
       "\n",
       "    .dataframe thead th {\n",
       "        text-align: right;\n",
       "    }\n",
       "</style>\n",
       "<table border=\"1\" class=\"dataframe\">\n",
       "  <thead>\n",
       "    <tr style=\"text-align: right;\">\n",
       "      <th></th>\n",
       "      <th>tfidf</th>\n",
       "    </tr>\n",
       "  </thead>\n",
       "  <tbody>\n",
       "    <tr>\n",
       "      <th>lane</th>\n",
       "      <td>0.369464</td>\n",
       "    </tr>\n",
       "    <tr>\n",
       "      <th>vehicl</th>\n",
       "      <td>0.318433</td>\n",
       "    </tr>\n",
       "    <tr>\n",
       "      <th>highway</th>\n",
       "      <td>0.212289</td>\n",
       "    </tr>\n",
       "    <tr>\n",
       "      <th>turn</th>\n",
       "      <td>0.204723</td>\n",
       "    </tr>\n",
       "    <tr>\n",
       "      <th>struck</th>\n",
       "      <td>0.186180</td>\n",
       "    </tr>\n",
       "    <tr>\n",
       "      <th>templar</th>\n",
       "      <td>0.177076</td>\n",
       "    </tr>\n",
       "    <tr>\n",
       "      <th>refus</th>\n",
       "      <td>0.167126</td>\n",
       "    </tr>\n",
       "    <tr>\n",
       "      <th>veer</th>\n",
       "      <td>0.160066</td>\n",
       "    </tr>\n",
       "    <tr>\n",
       "      <th>emerg</th>\n",
       "      <td>0.154439</td>\n",
       "    </tr>\n",
       "    <tr>\n",
       "      <th>fiber</th>\n",
       "      <td>0.150115</td>\n",
       "    </tr>\n",
       "    <tr>\n",
       "      <th>optic</th>\n",
       "      <td>0.150115</td>\n",
       "    </tr>\n",
       "    <tr>\n",
       "      <th>employe</th>\n",
       "      <td>0.150066</td>\n",
       "    </tr>\n",
       "    <tr>\n",
       "      <th>servic</th>\n",
       "      <td>0.148518</td>\n",
       "    </tr>\n",
       "    <tr>\n",
       "      <th>medic</th>\n",
       "      <td>0.146693</td>\n",
       "    </tr>\n",
       "    <tr>\n",
       "      <th>declar</th>\n",
       "      <td>0.146332</td>\n",
       "    </tr>\n",
       "    <tr>\n",
       "      <th>mile</th>\n",
       "      <td>0.143056</td>\n",
       "    </tr>\n",
       "    <tr>\n",
       "      <th>flagger</th>\n",
       "      <td>0.143056</td>\n",
       "    </tr>\n",
       "    <tr>\n",
       "      <th>speed</th>\n",
       "      <td>0.140165</td>\n",
       "    </tr>\n",
       "    <tr>\n",
       "      <th>post</th>\n",
       "      <td>0.135240</td>\n",
       "    </tr>\n",
       "    <tr>\n",
       "      <th>per</th>\n",
       "      <td>0.133105</td>\n",
       "    </tr>\n",
       "    <tr>\n",
       "      <th>privat</th>\n",
       "      <td>0.133105</td>\n",
       "    </tr>\n",
       "    <tr>\n",
       "      <th>worker</th>\n",
       "      <td>0.131161</td>\n",
       "    </tr>\n",
       "    <tr>\n",
       "      <th>limit</th>\n",
       "      <td>0.129322</td>\n",
       "    </tr>\n",
       "    <tr>\n",
       "      <th>underground</th>\n",
       "      <td>0.126045</td>\n",
       "    </tr>\n",
       "    <tr>\n",
       "      <th>mark</th>\n",
       "      <td>0.126045</td>\n",
       "    </tr>\n",
       "    <tr>\n",
       "      <th>special</th>\n",
       "      <td>0.120569</td>\n",
       "    </tr>\n",
       "    <tr>\n",
       "      <th>motor</th>\n",
       "      <td>0.120569</td>\n",
       "    </tr>\n",
       "    <tr>\n",
       "      <th>duti</th>\n",
       "      <td>0.114130</td>\n",
       "    </tr>\n",
       "    <tr>\n",
       "      <th>travel</th>\n",
       "      <td>0.111451</td>\n",
       "    </tr>\n",
       "    <tr>\n",
       "      <th>bruis</th>\n",
       "      <td>0.110619</td>\n",
       "    </tr>\n",
       "    <tr>\n",
       "      <th>...</th>\n",
       "      <td>...</td>\n",
       "    </tr>\n",
       "    <tr>\n",
       "      <th>fixat</th>\n",
       "      <td>0.000000</td>\n",
       "    </tr>\n",
       "    <tr>\n",
       "      <th>fixtur</th>\n",
       "      <td>0.000000</td>\n",
       "    </tr>\n",
       "    <tr>\n",
       "      <th>fl</th>\n",
       "      <td>0.000000</td>\n",
       "    </tr>\n",
       "    <tr>\n",
       "      <th>flag</th>\n",
       "      <td>0.000000</td>\n",
       "    </tr>\n",
       "    <tr>\n",
       "      <th>flagman</th>\n",
       "      <td>0.000000</td>\n",
       "    </tr>\n",
       "    <tr>\n",
       "      <th>flail</th>\n",
       "      <td>0.000000</td>\n",
       "    </tr>\n",
       "    <tr>\n",
       "      <th>flame</th>\n",
       "      <td>0.000000</td>\n",
       "    </tr>\n",
       "    <tr>\n",
       "      <th>flammabl</th>\n",
       "      <td>0.000000</td>\n",
       "    </tr>\n",
       "    <tr>\n",
       "      <th>flang</th>\n",
       "      <td>0.000000</td>\n",
       "    </tr>\n",
       "    <tr>\n",
       "      <th>flash</th>\n",
       "      <td>0.000000</td>\n",
       "    </tr>\n",
       "    <tr>\n",
       "      <th>flashlight</th>\n",
       "      <td>0.000000</td>\n",
       "    </tr>\n",
       "    <tr>\n",
       "      <th>flat</th>\n",
       "      <td>0.000000</td>\n",
       "    </tr>\n",
       "    <tr>\n",
       "      <th>flatb</th>\n",
       "      <td>0.000000</td>\n",
       "    </tr>\n",
       "    <tr>\n",
       "      <th>flatiron</th>\n",
       "      <td>0.000000</td>\n",
       "    </tr>\n",
       "    <tr>\n",
       "      <th>fled</th>\n",
       "      <td>0.000000</td>\n",
       "    </tr>\n",
       "    <tr>\n",
       "      <th>flee</th>\n",
       "      <td>0.000000</td>\n",
       "    </tr>\n",
       "    <tr>\n",
       "      <th>fleet</th>\n",
       "      <td>0.000000</td>\n",
       "    </tr>\n",
       "    <tr>\n",
       "      <th>flesh</th>\n",
       "      <td>0.000000</td>\n",
       "    </tr>\n",
       "    <tr>\n",
       "      <th>flew</th>\n",
       "      <td>0.000000</td>\n",
       "    </tr>\n",
       "    <tr>\n",
       "      <th>flex</th>\n",
       "      <td>0.000000</td>\n",
       "    </tr>\n",
       "    <tr>\n",
       "      <th>flexibl</th>\n",
       "      <td>0.000000</td>\n",
       "    </tr>\n",
       "    <tr>\n",
       "      <th>fli</th>\n",
       "      <td>0.000000</td>\n",
       "    </tr>\n",
       "    <tr>\n",
       "      <th>flight</th>\n",
       "      <td>0.000000</td>\n",
       "    </tr>\n",
       "    <tr>\n",
       "      <th>flip</th>\n",
       "      <td>0.000000</td>\n",
       "    </tr>\n",
       "    <tr>\n",
       "      <th>float</th>\n",
       "      <td>0.000000</td>\n",
       "    </tr>\n",
       "    <tr>\n",
       "      <th>floor</th>\n",
       "      <td>0.000000</td>\n",
       "    </tr>\n",
       "    <tr>\n",
       "      <th>florida</th>\n",
       "      <td>0.000000</td>\n",
       "    </tr>\n",
       "    <tr>\n",
       "      <th>flour</th>\n",
       "      <td>0.000000</td>\n",
       "    </tr>\n",
       "    <tr>\n",
       "      <th>flourmil</th>\n",
       "      <td>0.000000</td>\n",
       "    </tr>\n",
       "    <tr>\n",
       "      <th>zone</th>\n",
       "      <td>0.000000</td>\n",
       "    </tr>\n",
       "  </tbody>\n",
       "</table>\n",
       "<p>4285 rows × 1 columns</p>\n",
       "</div>"
      ],
      "text/plain": [
       "                tfidf\n",
       "lane         0.369464\n",
       "vehicl       0.318433\n",
       "highway      0.212289\n",
       "turn         0.204723\n",
       "struck       0.186180\n",
       "templar      0.177076\n",
       "refus        0.167126\n",
       "veer         0.160066\n",
       "emerg        0.154439\n",
       "fiber        0.150115\n",
       "optic        0.150115\n",
       "employe      0.150066\n",
       "servic       0.148518\n",
       "medic        0.146693\n",
       "declar       0.146332\n",
       "mile         0.143056\n",
       "flagger      0.143056\n",
       "speed        0.140165\n",
       "post         0.135240\n",
       "per          0.133105\n",
       "privat       0.133105\n",
       "worker       0.131161\n",
       "limit        0.129322\n",
       "underground  0.126045\n",
       "mark         0.126045\n",
       "special      0.120569\n",
       "motor        0.120569\n",
       "duti         0.114130\n",
       "travel       0.111451\n",
       "bruis        0.110619\n",
       "...               ...\n",
       "fixat        0.000000\n",
       "fixtur       0.000000\n",
       "fl           0.000000\n",
       "flag         0.000000\n",
       "flagman      0.000000\n",
       "flail        0.000000\n",
       "flame        0.000000\n",
       "flammabl     0.000000\n",
       "flang        0.000000\n",
       "flash        0.000000\n",
       "flashlight   0.000000\n",
       "flat         0.000000\n",
       "flatb        0.000000\n",
       "flatiron     0.000000\n",
       "fled         0.000000\n",
       "flee         0.000000\n",
       "fleet        0.000000\n",
       "flesh        0.000000\n",
       "flew         0.000000\n",
       "flex         0.000000\n",
       "flexibl      0.000000\n",
       "fli          0.000000\n",
       "flight       0.000000\n",
       "flip         0.000000\n",
       "float        0.000000\n",
       "floor        0.000000\n",
       "florida      0.000000\n",
       "flour        0.000000\n",
       "flourmil     0.000000\n",
       "zone         0.000000\n",
       "\n",
       "[4285 rows x 1 columns]"
      ]
     },
     "execution_count": 26,
     "metadata": {},
     "output_type": "execute_result"
    }
   ],
   "source": [
    "df = pd.DataFrame(first_vector_v.T.todense(),index = v.get_feature_names(),columns = [\"tfidf\"])\n",
    "df.sort_values(by=[\"tfidf\"],ascending=False)"
   ]
  },
  {
   "cell_type": "code",
   "execution_count": 28,
   "metadata": {},
   "outputs": [
    {
     "ename": "NameError",
     "evalue": "name 'model_selection' is not defined",
     "output_type": "error",
     "traceback": [
      "\u001b[1;31m---------------------------------------------------------------------------\u001b[0m",
      "\u001b[1;31mNameError\u001b[0m                                 Traceback (most recent call last)",
      "\u001b[1;32m<ipython-input-28-8e1e19291842>\u001b[0m in \u001b[0;36m<module>\u001b[1;34m()\u001b[0m\n\u001b[1;32m----> 1\u001b[1;33m \u001b[0mTrain_X\u001b[0m\u001b[1;33m,\u001b[0m \u001b[0mTest_X\u001b[0m\u001b[1;33m,\u001b[0m \u001b[0mTrain_Y\u001b[0m\u001b[1;33m,\u001b[0m \u001b[0mTest_Y\u001b[0m \u001b[1;33m=\u001b[0m \u001b[0mmodel_selection\u001b[0m\u001b[1;33m.\u001b[0m\u001b[0mtrain_test_split\u001b[0m\u001b[1;33m(\u001b[0m\u001b[0mdata\u001b[0m\u001b[1;33m[\u001b[0m\u001b[1;34m'summary.new'\u001b[0m\u001b[1;33m]\u001b[0m\u001b[1;33m,\u001b[0m\u001b[0mdata\u001b[0m\u001b[1;33m[\u001b[0m\u001b[1;34m'Tagged2'\u001b[0m\u001b[1;33m]\u001b[0m\u001b[1;33m,\u001b[0m\u001b[0mtest_size\u001b[0m\u001b[1;33m=\u001b[0m\u001b[1;36m0.3\u001b[0m\u001b[1;33m)\u001b[0m\u001b[1;33m\u001b[0m\u001b[0m\n\u001b[0m",
      "\u001b[1;31mNameError\u001b[0m: name 'model_selection' is not defined"
     ]
    }
   ],
   "source": [
    "Train_X, Test_X, Train_Y, Test_Y = model_selection.train_test_split(data['summary.new'],data['Tagged2'],test_size=0.3)"
   ]
  },
  {
   "cell_type": "code",
   "execution_count": 29,
   "metadata": {},
   "outputs": [],
   "source": [
    "from sklearn.preprocessing import LabelEncoder\n",
    "from collections import defaultdict\n",
    "from nltk.corpus import wordnet as wn\n",
    "from sklearn.feature_extraction.text import TfidfVectorizer\n",
    "from sklearn import model_selection, naive_bayes, svm\n",
    "from sklearn.metrics import accuracy_score"
   ]
  },
  {
   "cell_type": "code",
   "execution_count": 30,
   "metadata": {},
   "outputs": [],
   "source": [
    "import numpy as np"
   ]
  },
  {
   "cell_type": "code",
   "execution_count": 148,
   "metadata": {},
   "outputs": [],
   "source": [
    "Train_X, Test_X, Train_Y, Test_Y = model_selection.train_test_split(data['summary.new'],data['Tagged2'],test_size=0.2)"
   ]
  },
  {
   "cell_type": "code",
   "execution_count": 149,
   "metadata": {},
   "outputs": [],
   "source": [
    "Encoder = LabelEncoder()\n",
    "Train_Y = Encoder.fit_transform(Train_Y)\n",
    "Test_Y = Encoder.fit_transform(Test_Y)"
   ]
  },
  {
   "cell_type": "code",
   "execution_count": null,
   "metadata": {},
   "outputs": [],
   "source": []
  },
  {
   "cell_type": "code",
   "execution_count": 150,
   "metadata": {},
   "outputs": [],
   "source": [
    "Train_X_Tfidf = v.transform(Train_X)\n",
    "Test_X_Tfidf = v.transform(Test_X)"
   ]
  },
  {
   "cell_type": "code",
   "execution_count": 151,
   "metadata": {},
   "outputs": [
    {
     "name": "stdout",
     "output_type": "stream",
     "text": [
      "{u'yellow': 4277, u'interchang': 1917, u'four': 1491, u'unattach': 3975, u'dynamit': 1159, u'whose': 4215, u'marcor': 2246, u'swab': 3692, u'swam': 3693, u'refinish': 2997, u'digit': 1042, u'guardrail': 1645, u'ductil': 1146, u'foul': 1488, u'appar': 163, u'disturb': 1081, u'sunstat': 3661, u'wooden': 4242, u'crotch': 888, u'nordiazepam': 2480, u'rusti': 3173, u'miller': 2332, u'scraper': 3233, u'second': 3254, u'lehigh': 2114, u'crozer': 892, u'even': 1275, u'captain': 528, u'wreck': 4260, u'lightn': 2138, u'new': 2454, u'net': 2450, u'ongo': 2543, u'elimin': 1198, u'crouch': 889, u'aquat': 183, u'ravenel': 2939, u'men': 2294, u'met': 2302, u'osha': 2563, u'mep': 2298, u'cardboard': 533, u'interpret': 1923, u'taper': 3738, u'postop': 2788, u'dri': 1126, u'permit': 2689, u'climber': 683, u'counti': 856, u'golden': 1590, u'nineti': 2464, u'ground': 1638, u'brought': 449, u'sterl': 3573, u'unit': 4016, u'landfil': 2063, u'unanchor': 3972, u'halogen': 1663, u'call': 509, u'recommend': 2971, u'strike': 3607, u'type': 3959, u'calf': 506, u'relay': 3017, u'relat': 3016, u'notic': 2495, u'hurt': 1798, u'warn': 4164, u'glass': 1579, u'warm': 4163, u'hole': 1761, u'hold': 1759, u'accid': 21, u'bacteriolog': 273, u'room': 3136, u'roon': 3137, u'sandblast': 3195, u'setup': 3285, u'blade': 364, u'roof': 3133, u'overstress': 2595, u'root': 3138, u'wand': 4160, u'give': 1577, u'swivel': 3706, u'caution': 576, u'want': 4161, u'pintl': 2722, u'montebello': 2382, u'hog': 1756, u'hoe': 1755, u'vicent': 4124, u'polic': 2767, u'auger': 240, u'travel': 3910, u'faulti': 1359, u'classifi': 666, u'hot': 1779, u'confin': 789, u'regist': 3009, u'answer': 150, u'abdomen': 5, u'wrong': 4265, u'geolog': 1569, u'endang': 1224, u'embol': 1206, u'plier': 2748, u'attempt': 231, u'third': 3804, u'unlicens': 4022, u'caisson': 501, u'maintain': 2216, u'wind': 4225, u'blind': 375, u'deck': 960, u'helena': 1720, u'affect': 65, u'wrought': 4266, u'fir': 1406, u'fit': 1412, u'fix': 1415, u'crew': 878, u'better': 347, u'onc': 2540, u'hillsid': 1742, u'hidden': 1735, u'therapi': 3793, u'manitowoc': 2236, u'rectangl': 2980, u'caterpillar': 567, u'ernesto': 1258, u'surgic': 3682, u'interrupt': 1924, u'resourc': 3058, u'township': 3877, u'bowdoin': 416, u'barton': 300, u'hemorrhag': 1729, u'accommod': 23, u'lockout': 2167, u'cerrito': 596, u'arrow': 202, u'went': 4192, u'sliver': 3411, u'side': 3349, u'bone': 397, u'mean': 2280, u'mdo': 2278, u'concord': 775, u'mdb': 2277, u'laboratori': 2045, u'spider': 3484, u'combust': 736, u'taught': 3746, u'forgot': 1476, u'receptacl': 2964, u'extract': 1312, u'ring': 3104, u'whip': 4211, u'fromtelecommun': 1516, u'unbound': 3978, u'ridgid': 3099, u'gradient': 1607, u'thoracotomi': 3808, u'mason': 2256, u'unclog': 3983, u'branch': 424, u'rb': 2943, u'sluggish': 3418, u'sheetrock': 3309, u'situat': 3375, u'cement': 588, u'allerg': 97, u'lighthead': 2137, u'skyjack': 3392, u'atherosclerosi': 224, u'unabl': 3970, u'startl': 3554, u'loud': 2186, u'gradi': 1606, u'grade': 1604, u'wasp': 4169, u'wast': 4170, u'hook': 1769, u'instruct': 1906, u'ditch': 1082, u'hood': 1768, u'brock': 444, u'fled': 1431, u'evolut': 1282, u'master': 2260, u'dwell': 1157, u'hollywood': 1764, u'breezeway': 433, u'outag': 2567, u'inflow': 1870, u'ravin': 2940, u'crawl': 872, u'technic': 3755, u'symptom': 3708, u'driveway': 1135, u'cheekbon': 621, u'tree': 3916, u'project': 2854, u'pneumonia': 2759, u'femor': 1377, u'nonintrins': 2473, u'idlh': 1817, u'drager': 1115, u'whenstructur': 4204, u'runner': 3164, u'mine': 2336, u'perini': 2684, u'seen': 3263, u'seem': 3262, u'seek': 3261, u'chest': 624, u'sleeper': 3404, u'unknow': 4019, u'object': 2511, u'marin': 2249, u'regular': 3011, u'mouth': 2400, u'snatch': 3435, u'prematur': 2813, u'maria': 2248, u'grove': 1643, u'alarm': 90, u'dog': 1097, u'hospit': 1776, u'tech': 3754, u'lpg': 2193, u'scream': 3234, u'came': 511, u'probe': 2841, u'pave': 2654, u'planetari': 2736, u'alvin': 114, u'nevada': 2452, u'northeast': 2484, u'layout': 2089, u'acquir': 37, u'buss': 488, u'explain': 1300, u'restaur': 3066, u'theme': 3791, u'busi': 487, u'buse': 485, u'plate': 2743, u'stow': 3594, u'stop': 3587, u'compli': 761, u'ceil': 584, u'pocket': 2761, u'bar': 291, u'flagger': 1420, u'patch': 2648, u'bag': 274, u'respond': 3062, u'blew': 374, u'fair': 1334, u'specialist': 3476, u'bled': 370, u'radius': 2911, u'result': 3072, u'respons': 3063, u'fail': 1331, u'hammer': 1666, u'subject': 3633, u'said': 3184, u'manson': 2240, u'scrap': 3231, u'sait': 3185, u'attribut': 237, u'inabl': 1843, u'splinter': 3498, u'extend': 1306, u'pontoon': 2775, u'extens': 1307, u'medallion': 2285, u'carbon': 530, u'tangl': 3733, u'roller': 3129, u'accident': 22, u'veer': 4096, u'conco': 774, u'carwash': 552, u'southeastern': 3464, u'driller': 1129, u'loader': 2161, u'canyon': 522, u'brigad': 440, u'apprentic': 173, u'assum': 222, u'frc': 1503, u'roofer': 3134, u'union': 4013, u'three': 3817, u'erect': 1255, u'specul': 3481, u'tine': 3841, u'trigger': 3925, u'stadium': 3530, u'basic': 303, u'sulfid': 3649, u'threw': 3818, u'mcm': 2275, u'regul': 3010, u'deeper': 968, u'mushroom': 2420, u'suppress': 3676, u'tractoremploye': 3889, u'worker': 4248, u'hepa': 1733, u'lift': 2134, u'spin': 3487, u'davi': 939, u'tank': 3734, u'servic': 3280, u'gasolin': 1555, u'commerci': 743, u'intak': 1910, u'inch': 1850, u'employ': 1211, u'calcul': 505, u'motorist': 2396, u'militari': 2330, u'occas': 2517, u'anchor': 133, u'nonresidenti': 2476, u'seven': 3286, u'metropolitan': 2313, u'mexico': 2314, u'diaphragm': 1030, u'iv': 1948, u'ii': 1819, u'il': 1823, u'march': 2244, u'ib': 1811, u'sever': 3289, u'receiv': 2962, u'make': 2219, u'split': 3499, u'ladderway': 2052, u'bid': 350, u'elli': 1200, u'northtech': 2487, u'sacramento': 3177, u'refit': 2998, u'prognosi': 2850, u'boiler': 393, u'refin': 2995, u'tune': 3946, u'squar': 3522, u'unbuckl': 3979, u'glu': 1584, u'unhook': 4006, u'moreov': 2386, u'left': 2109, u'identifi': 1815, u'sewag': 3290, u'yet': 4278, u'rewir': 3089, u'previous': 2829, u'defram': 973, u'haa': 1654, u'hay': 1698, u'har': 1682, u'east': 1171, u'hat': 1691, u'applic': 169, u'scrotum': 3240, u'coron': 837, u'preserv': 2821, u'background': 266, u'shadow': 3294, u'stihl': 3576, u'shoulder': 3337, u'measur': 2282, u'grayhawk': 1618, u'specif': 3478, u'nudg': 2501, u'transvers': 3904, u'negat': 2444, u'pavement': 2655, u'oncom': 2541, u'creighton': 877, u'attorney': 236, u'right': 3102, u'old': 2537, u'creek': 876, u'deal': 950, u'crown': 891, u'somehow': 3451, u'dead': 948, u'intern': 1922, u'billboard': 354, u'pain': 2608, u'transmiss': 3902, u'pail': 2607, u'bottom': 411, u'slurri': 3421, u'umc': 3969, u'condit': 780, u'reamer': 2953, u'burn': 477, u'buri': 476, u'binder': 357, u'colleg': 726, u'bolt': 394, u'burs': 481, u'burr': 480, u'keeper': 2005, u'super': 3662, u'unsaf': 4036, u'conceal': 769, u'beta': 345, u'simul': 3367, u'afternoon': 66, u'marshal': 2253, u'telephon': 3764, u'sod': 3438, u'seatboard': 3250, u'son': 3455, u'wrap': 4259, u'unclip': 3982, u'towson': 3878, u'fabric': 1319, u'suffici': 3645, u'support': 3674, u'primari': 2831, u'avail': 249, u'width': 4220, u'spring': 3515, u'overhead': 2585, u'tamp': 3730, u'overhang': 2584, u'analysi': 131, u'headach': 1702, u'form': 1479, u'offer': 2527, u'forc': 1468, u'armi': 196, u'forg': 1475, u'ford': 1469, u'substrat': 3640, u'palmetto': 2614, u'fort': 1485, u'signalman': 3359, u'tucson': 3942, u'snaphook': 3434, u'unrel': 4033, u'shooter': 3328, u'sight': 3355, u'shim': 3315, u'diagnosi': 1027, u'thunk': 3825, u'exist': 1292, u'ship': 3319, u'tooth': 3858, u'graft': 1608, u'vista': 4140, u'floor': 1442, u'interst': 1926, u'communic': 745, u'knuckl': 2034, u'presum': 2827, u'smell': 3426, u'roll': 3126, u'notif': 2496, u'intend': 1913, u'sling': 3409, u'handicap': 1670, u'felt': 1375, u'taurus': 3747, u'fell': 1373, u'intent': 1916, u'weekend': 4185, u'subdivis': 3630, u'nxt': 2507, u'femal': 1376, u'jacket': 1950, u'gorilla': 1598, u'carriag': 547, u'time': 3839, u'push': 2893, u'daili': 922, u'chain': 602, u'osu': 2564, u'mild': 2327, u'mile': 2328, u'skil': 3385, u'skin': 3389, u'mill': 2331, u'primer': 2834, u'skid': 3382, u'delmar': 983, u'decid': 959, u'uneven': 4000, u'depend': 996, u'father': 1356, u'oversight': 2593, u'string': 3608, u'jerk': 1963, u'md': 2276, u'chiaramont': 626, u'pathologist': 2650, u'palomar': 2616, u'dil': 1043, u'stapler': 3551, u'tear': 3752, u'die': 1032, u'leftov': 2110, u'henri': 1731, u'nagel': 2425, u'vein': 4101, u'item': 1947, u'unsupport': 4045, u'team': 3751, u'cooki': 823, u'dip': 1049, u'round': 3149, u'prevent': 2828, u'mn': 2356, u'meadow': 2279, u'attic': 235, u'compens': 755, u'sign': 3356, u'unprotect': 4031, u'sacral': 3176, u'current': 906, u'fifti': 1393, u'coccyx': 712, u'pushbutton': 2894, u'french': 1507, u'modif': 2362, u'splice': 3496, u'drainag': 1119, u'along': 103, u'wait': 4152, u'box': 417, u'shift': 3314, u'geotechn': 1571, u'subgrad': 3632, u'sawn': 3206, u'extrem': 1313, u'bob': 388, u'nylon': 2509, u'anoxia': 148, u'boe': 391, u'reclaim': 2968, u'bog': 392, u'ceram': 593, u'hospitalizarion': 1777, u'elect': 1189, u'modul': 2364, u'skilsaw': 3388, u'instal': 1901, u'franci': 1500, u'saddl': 3178, u'univers': 4017, u'visit': 4139, u'punctur': 2887, u'connector': 793, u'scope': 3228, u'angri': 139, u'thru': 3823, u'peopl': 2677, u'visual': 4141, u'tandem': 3732, u'taxiway': 3749, u'examin': 1283, u'effort': 1181, u'stain': 3535, u'demolish': 987, u'falsework': 1341, u'fli': 1438, u'vega': 4097, u'imped': 1836, u'carolina': 539, u'materi': 2264, u'nearest': 2438, u'xedia': 4271, u'encapsul': 1217, u'reynold': 3091, u'agent': 70, u'drawer': 1123, u'agenc': 69, u'tilt': 3837, u'penthous': 2676, u'parch': 2631, u'sunday': 3657, u'purg': 2889, u'shasta': 3302, u'tile': 3836, u'pathway': 2651, u'arbon': 184, u'suffer': 3644, u'mat': 2262, u'may': 2268, u'max': 2265, u'spot': 3506, u'mag': 2211, u'cardiac': 534, u'partway': 2644, u'data': 935, u'man': 2225, u'pulley': 2882, u'stress': 3605, u'neck': 2441, u'johnson': 1975, u'conscious': 794, u'puller': 2881, u'avenu': 251, u'st': 3526, u'sj': 3380, u'switch': 3703, u'truck': 3934, u'deposit': 998, u'cylind': 917, u'basket': 304, u'tall': 3728, u'riversid': 3113, u'talk': 3727, u'vike': 4129, u'shield': 3313, u'repair': 3041, u'entryway': 1243, u'legionnair': 2113, u'pitch': 2729, u'equip': 1253, u'peterson': 2695, u'grout': 1642, u'jig': 1967, u'reinforc': 3014, u'disconnect': 1059, u'monitor': 2376, u'polici': 2768, u'torn': 3863, u'monitox': 2377, u'monopol': 2378, u'torr': 3865, u'freightlin': 1506, u'main': 2214, u'apron': 181, u'automobil': 245, u'shatter': 3303, u'initi': 1879, u'nation': 2432, u'toxic': 3879, u'therebi': 3795, u'gate': 1558, u'akron': 88, u'possess': 2785, u'folsom': 1461, u'plung': 2754, u'entangl': 1236, u'revers': 3084, u'separ': 3271, u'ledg': 2106, u'rock': 3120, u'quarter': 2904, u'smartloc': 3424, u'agil': 71, u'continu': 809, u'unlock': 4025, u'surcharg': 3677, u'adren': 58, u'agit': 72, u'stitch': 3579, u'capstan': 527, u'trauma': 3908, u'bld': 368, u'lubric': 2196, u'hcn': 1700, u'correct': 843, u'diseas': 1063, u'onsit': 2546, u'domest': 1099, u'million': 2334, u'seventh': 3288, u'substanc': 3637, u'california': 508, u'vinyl': 4132, u'cough': 851, u'torqu': 3864, u'gaff': 1538, u'acetylen': 29, u'recov': 2977, u'thing': 3801, u'greenhous': 1624, u'standbi': 3546, u'think': 3802, u'frequent': 1509, u'first': 1410, u'oper': 2551, u'americana': 121, u'ocotillo': 2524, u'carri': 546, u'distal': 1077, u'crib': 879, u'one': 2542, u'reopen': 3040, u'shipyard': 3321, u'fast': 1353, u'oppos': 2552, u'open': 2550, u'urin': 4066, u'law': 2085, u'teardown': 3753, u'lap': 2069, u'flatiron': 1430, u'ambul': 118, u'citi': 658, u'draft': 1113, u'averag': 252, u'escort': 1264, u'streetlight': 3604, u'cite': 657, u'gorri': 1599, u'scba': 3217, u'unisul': 4015, u'southbound': 3462, u'flammabl': 1424, u'forward': 1487, u'butt': 490, u'vicin': 4125, u'ventura': 4109, u'janitor': 1955, u'tractor': 3887, u'san': 3193, u'sag': 3182, u'alley': 98, u'alleg': 95, u'dasi': 934, u'say': 3208, u'allen': 96, u'saw': 3204, u'sat': 3200, u'clung': 699, u'squat': 3523, u'castor': 558, u'hydrostat': 1805, u'sledgehamm': 3402, u'note': 2493, u'squad': 3521, u'take': 3725, u'advis': 60, u'interior': 1919, u'green': 1623, u'noth': 2494, u'channel': 611, u'incoher': 1856, u'offload': 2530, u'incorpor': 1857, u'trace': 3883, u'normal': 2481, u'track': 3885, u'mendota': 2295, u'knew': 2025, u'compress': 766, u'butterfli': 491, u'abut': 16, u'amerag': 119, u'boatswain': 386, u'pair': 2611, u'knee': 2023, u'upland': 4055, u'lawn': 2086, u'drive': 1132, u'compactor': 750, u'axi': 259, u'salt': 3189, u'axl': 260, u'shop': 3329, u'shot': 3334, u'razmik': 2941, u'show': 3340, u'cornea': 835, u'friction': 1513, u'shoe': 3324, u'corner': 836, u'slot': 3414, u'fend': 1380, u'slow': 3415, u'fenc': 1379, u'corrug': 845, u'imbal': 1828, u'activ': 43, u'plumb': 2751, u'helic': 1721, u'intracrani': 1930, u'robl': 3119, u'black': 361, u'eyewit': 1318, u'get': 1573, u'secondari': 3255, u'outlet': 2573, u'requir': 3050, u'prime': 2833, u'sideway': 3352, u'staf': 3532, u'consist': 798, u'median': 2286, u'borrow': 404, u'yield': 4279, u'across': 39, u'twelv': 3955, u'roger': 3124, u'vision': 4138, u'substat': 3639, u'oven': 2578, u'sear': 3247, u'surgeri': 3681, u'outpati': 2574, u'seat': 3249, u'seam': 3246, u'seal': 3243, u'diver': 1085, u'towboat': 3873, u'dormitori': 1105, u'televis': 3765, u'innov': 1891, u'silti': 3363, u'label': 2043, u'enough': 1232, u'imiti': 1830, u'volatil': 4143, u'screen': 3235, u'jumper': 1992, u'fight': 1394, u'august': 241, u'ugstad': 3964, u'spartan': 3473, u'jd': 1960, u'spark': 3472, u'parapet': 2630, u'shimmick': 3316, u'trader': 3891, u'electrolyt': 1194, u'coccidioid': 711, u'restroom': 3071, u'improv': 1842, u'improp': 1841, u'among': 123, u'acceler': 18, u'cancer': 516, u'anti': 154, u'denver': 994, u'aerial': 62, u'tub': 3939, u'cabinetri': 498, u'asphyxi': 213, u'ultim': 3966, u'stretch': 3606, u'west': 4194, u'mari': 2247, u'mark': 2251, u'breath': 432, u'fusibl': 1535, u'crossarm': 886, u'certifi': 599, u'reflex': 3001, u'thousand': 3813, u'catastroph': 564, u'wake': 4153, u'escondido': 1263, u'asplundh': 215, u'ultra': 3967, u'former': 1482, u'sound': 3459, u'straighten': 3596, u'ratchet': 2936, u'region': 3008, u'pinki': 2721, u'trelli': 3917, u'destin': 1010, u'strain': 3597, u'sudden': 3643, u'warehous': 4162, u'ambient': 117, u'recours': 2976, u'rammer': 2925, u'nearbi': 2437, u'kettl': 2010, u'pelvi': 2670, u'par': 2625, u'doctor': 1093, u'pay': 2657, u'woodland': 4243, u'polyurethan': 2772, u'pad': 2605, u'preparatori': 2818, u'pan': 2617, u'breakdown': 430, u'exhaust': 1290, u'jeffrey': 1962, u'oil': 2532, u'assist': 220, u'vosh': 4147, u'capabl': 524, u'mani': 2232, u'extern': 1309, u'booster': 400, u'costa': 847, u'appropri': 175, u'vacant': 4082, u'vertebra': 4115, u'workplac': 4250, u'summer': 3651, u'outdoor': 2569, u'manifold': 2233, u'fume': 1528, u'rest': 3064, u'steamer': 3564, u'concentr': 770, u'ironwork': 1938, u'uncap': 3980, u'littl': 2154, u'pile': 2717, u'laros': 2072, u'grip': 1632, u'jake': 1953, u'around': 198, u'mop': 2385, u'mow': 2406, u'sump': 3654, u'unistrut': 4014, u'ferment': 1383, u'chainsaw': 603, u'temperatur': 3767, u'traffic': 3892, u'baltimor': 285, u'vacuum': 4083, u'world': 4252, u'railroad': 2917, u'energ': 1225, u'westair': 4195, u'stationari': 3560, u'shutter': 3346, u'chamber': 606, u'werner': 4193, u'either': 1184, u'clay': 670, u'claw': 669, u'manag': 2226, u'obstruct': 2514, u'towabl': 3871, u'cabl': 499, u'overexposur': 2582, u'ascend': 209, u'muscl': 2418, u'granit': 1611, u'adequ': 50, u'centerlin': 591, u'avuls': 254, u'confirm': 790, u'tube': 3940, u'pioneer': 2723, u'ddh': 946, u'exit': 1293, u'inject': 1880, u'cylindr': 918, u'pipefitt': 2725, u'knife': 2026, u'refer': 2994, u'hydroblast': 1802, u'power': 2797, u'sprung': 3517, u'broken': 446, u'chlorin': 636, u'standpoint': 3548, u'chlorid': 635, u'stone': 3583, u'solidifi': 3448, u'island': 1942, u'ach': 30, u'drag': 1114, u'acm': 34, u'acr': 38, u'neighbor': 2445, u'act': 41, u'reenerg': 2991, u'industri': 1865, u'bond': 396, u'rebuild': 2960, u'road': 3115, u'splint': 3497, u'essex': 1266, u'surviv': 3686, u'strip': 3609, u'landi': 2064, u'burbank': 474, u'methyl': 2311, u'burglar': 475, u'complianc': 762, u'garment': 1551, u'unfortun': 4002, u'bottl': 410, u'conclud': 772, u'bundl': 471, u'tripod': 3930, u'sunris': 3660, u'gore': 1597, u'asbesto': 208, u'walkway': 4155, u'lanc': 2060, u'buggi': 460, u'conclus': 773, u'pull': 2880, u'tripl': 3929, u'factur': 1329, u'possibl': 2786, u'dywidag': 1161, u'craniocerebr': 869, u'embed': 1205, u'torso': 3867, u'pulp': 2884, u'rust': 3172, u'aa': 0, u'gone': 1594, u'ac': 17, u'ae': 61, u'ad': 47, u'creat': 875, u'certain': 597, u'caustic': 575, u'deer': 970, u'al': 89, u'deep': 967, u'general': 1566, u'undergon': 3990, u'generat': 1567, u'az': 261, u'fill': 1396, u'collid': 727, u'arrowhead': 203, u'collector': 725, u'field': 1390, u'cleanup': 673, u'collis': 728, u'shimomura': 3317, u'exclamatori': 1288, u'architectur': 188, u'condens': 779, u'sequenc': 3273, u'slant': 3399, u'ansi': 149, u'unload': 4024, u'groov': 1636, u'mast': 2259, u'adam': 48, u'escap': 1262, u'cpr': 864, u'motel': 2392, u'sidewal': 3350, u'consider': 797, u'illustr': 1826, u'windi': 4226, u'upgrad': 4053, u'implement': 1839, u'edg': 1178, u'content': 808, u'resum': 3073, u'tr': 3882, u'tn': 3846, u'tail': 3721, u'methamphetamin': 2307, u'gastriti': 1556, u'midwest': 2324, u'introduc': 1931, u'roadway': 3117, u'premium': 2815, u'refractori': 3002, u'fals': 1340, u'util': 4077, u'bleach': 369, u'strand': 3598, u'splitter': 3500, u'harri': 1690, u'wss': 4268, u'bangor': 288, u'small': 3422, u'damper': 928, u'sank': 3198, u'sani': 3197, u'enterpris': 1238, u'neighborhood': 2446, u'past': 2647, u'strung': 3616, u'burnish': 478, u'arizona': 194, u'pass': 2645, u'canvass': 521, u'scupper': 3241, u'stood': 3586, u'abi': 7, u'section': 3257, u'dichloromethan': 1031, u'abl': 8, u'waalk': 4150, u'windowsil': 4228, u'method': 2309, u'unlabel': 4021, u'movement': 2404, u'full': 1524, u'embank': 1204, u'telelect': 3763, u'carpinteria': 544, u'nickajack': 2460, u'capacitor': 526, u'valv': 4086, u'search': 3248, u'fergus': 1382, u'stockpil': 3581, u'prior': 2836, u'airport': 85, u'pick': 2708, u'action': 42, u'narrow': 2430, u'diamet': 1029, u'via': 4120, u'depart': 995, u'transit': 3901, u'readili': 2950, u'inappropri': 1846, u'establish': 1267, u'select': 3266, u'kan': 1998, u'acryl': 40, u'tackl': 3716, u'two': 3958, u'splash': 3493, u'morn': 2389, u'becam': 317, u'desir': 1009, u'tester': 3785, u'hundr': 1792, u'reconfigur': 2972, u'leonard': 2120, u'macomb': 2209, u'uncov': 3986, u'particular': 2641, u'compani': 751, u'nineteen': 2463, u'riverbank': 3112, u'town': 3875, u'none': 2471, u'fatal': 1355, u'intracerebr': 1929, u'hour': 1781, u'hous': 1782, u'phillip': 2702, u'des': 1003, u'chisel': 634, u'dew': 1023, u'mall': 2224, u'del': 979, u'morgan': 2387, u'learn': 2099, u'abandon': 3, u'fulfil': 1523, u'dewalt': 1024, u'lavina': 2084, u'stumbl': 3621, u'scan': 3215, u'scaf': 3210, u'minimum': 2338, u'schuff': 3222, u'gallon': 1542, u'scar': 3216, u'huge': 1788, u'hickey': 1734, u'secur': 3258, u'comfort': 739, u'csa': 897, u'narrowli': 2431, u'disclos': 1058, u'ucla': 3963, u'voltag': 4145, u'backflush': 265, u'needl': 2443, u'plant': 2738, u'redwood': 2989, u'plane': 2735, u'blood': 377, u'associ': 221, u'plank': 2737, u'chute': 649, u'coax': 710, u'orchard': 2557, u'coat': 709, u'rosebud': 3143, u'coal': 705, u'wrench': 4261, u'extric': 1314, u'fender': 1381, u'davey': 938, u'rotat': 3146, u'pant': 2623, u'instep': 1905, u'trade': 3890, u'paper': 2624, u'scott': 3230, u'pane': 2619, u'subarachnoid': 3627, u'gfci': 1574, u'dolli': 1098, u'glazier': 1580, u'handheld': 1668, u'carpentri': 542, u'late': 2078, u'lacer': 2047, u'lath': 2080, u'good': 1595, u'impal': 1835, u'pegasus': 2668, u'compound': 765, u'detach': 1013, u'manlift': 2237, u'complain': 757, u'antelop': 151, u'eventu': 1277, u'wash': 4166, u'troubleshoot': 3932, u'electrocut': 1192, u'easili': 1170, u'achiev': 31, u'sweatshirt': 3696, u'found': 1489, u'clamp': 662, u'status': 3561, u'harm': 1689, u'shock': 3323, u'vaor': 4090, u'mental': 2296, u'fish': 1411, u'hard': 1684, u'fractur': 1495, u'finish': 1404, u'connect': 792, u'plowshar': 2749, u'reduct': 2988, u'massiv': 2258, u'bomag': 395, u'princ': 2835, u'torranc': 3866, u'occurr': 2522, u'highway': 1740, u'difficulti': 1038, u'qualifi': 2900, u'satruck': 3201, u'sixtyat': 3378, u'believ': 329, u'acorn': 35, u'riser': 3109, u'director': 1052, u'sicken': 3348, u'flourmil': 1445, u'fruit': 1520, u'perman': 2686, u'penetr': 2673, u'bumper': 470, u'clump': 698, u'undersid': 3993, u'copper': 831, u'major': 2218, u'vehicl': 4099, u'number': 2502, u'sometim': 3454, u'pop': 2778, u'done': 1101, u'precautionari': 2804, u'stabl': 3528, u'airtech': 87, u'differ': 1036, u'jet': 1965, u'kon': 2036, u'tate': 3745, u'least': 2101, u'contra': 810, u'statement': 3557, u'natur': 2433, u'illeg': 1825, u'twenti': 3956, u'unbolt': 3977, u'catapult': 563, u'conduit': 785, u'traine': 3896, u'park': 2633, u'pari': 2632, u'drain': 1118, u'sawzal': 3207, u'consult': 803, u'reinstal': 3015, u'exposur': 1304, u'mclaughlin': 2274, u'contrari': 814, u'quinnipiac': 2906, u'gotten': 1601, u'horizont': 1773, u'aat': 1, u'fixat': 1416, u'defect': 971, u'stonecutt': 3584, u'pedestrian': 2666, u'sell': 3268, u'mountain': 2399, u'drywal': 1143, u'built': 464, u'equival': 1254, u'self': 3267, u'onset': 2545, u'also': 106, u'build': 461, u'brace': 419, u'threader': 3816, u'pipelin': 2726, u'distribut': 1079, u'vantag': 4089, u'chart': 617, u'plan': 2734, u'model': 2361, u'charg': 612, u'kk': 2022, u'dragger': 1116, u'cover': 861, u'artex': 206, u'gabl': 1537, u'kp': 2037, u'kv': 2039, u'pennant': 2675, u'weigh': 4187, u'ky': 2040, u'clod': 687, u'jurisdict': 1996, u'hopper': 1772, u'fireplac': 1408, u'chock': 637, u'fine': 1401, u'find': 1400, u'impact': 1833, u'ineffect': 1866, u'solut': 3449, u'knowledg': 2031, u'factor': 1327, u'secant': 3253, u'boulder': 412, u'remedi': 3026, u'unus': 4049, u'downpour': 1111, u'tremmi': 3919, u'express': 1305, u'mainten': 2217, u'batter': 308, u'theft': 3790, u'sill': 3361, u'restart': 3065, u'silo': 3362, u'feeder': 1370, u'synthet': 3709, u'acut': 46, u'common': 744, u'river': 3111, u'respir': 3060, u'set': 3281, u'jade': 1952, u'startup': 3555, u'decompos': 962, u'see': 3260, u'perimet': 2683, u'sec': 3252, u'sea': 3242, u'tender': 3774, u'outward': 2577, u'eman': 1203, u'shower': 3341, u'misalign': 2344, u'someth': 3453, u'pickup': 2711, u'cutout': 911, u'experi': 1298, u'kneel': 2024, u'altern': 109, u'unrol': 4035, u'mailbox': 2213, u'dilapid': 1044, u'barrack': 296, u'aircraft': 81, u'bodi': 390, u'last': 2076, u'colton': 731, u'retent': 3078, u'annual': 144, u'alon': 102, u'foreign': 1472, u'enrout': 1233, u'whole': 4214, u'lanyard': 2068, u'load': 2160, u'brinderson': 442, u'point': 2762, u'schedul': 3219, u'forklift': 1478, u'rosa': 3141, u'suppli': 3672, u'musculoskelet': 2419, u'throughout': 3820, u'communiti': 746, u'belt': 333, u'becom': 320, u'conveyor': 822, u'pneumat': 2758, u'devic': 1022, u'imbed': 1829, u'proprietor': 2866, u'firm': 1409, u'stepladd': 3572, u'fire': 1407, u'infect': 1867, u'wheeler': 4203, u'gas': 1552, u'great': 1621, u'gap': 1545, u'workpiec': 4249, u'formless': 1483, u'inclement': 1853, u'ignit': 1818, u'solid': 3447, u'straight': 3595, u'histor': 1748, u'durat': 1153, u'unifi': 4008, u'error': 1260, u'everyon': 1279, u'pylon': 2899, u'swim': 3701, u'pound': 2793, u'propan': 2861, u'belmont': 332, u'cerebrum': 595, u'powerlink': 2798, u'decor': 965, u'unmount': 4027, u'salina': 3188, u'bothman': 409, u'shorten': 3332, u'wherein': 4207, u'shorter': 3333, u'newhal': 2455, u'corridor': 844, u'summerland': 3652, u'alert': 92, u'tiesat': 3833, u'moment': 2370, u'walmart': 4157, u'stack': 3529, u'recent': 2963, u'dark': 933, u'travers': 3911, u'task': 3743, u'entri': 1242, u'protrus': 2871, u'spent': 3483, u'person': 2690, u'boat': 385, u'strobe': 3611, u'elev': 1197, u'grid': 1626, u'protrud': 2870, u'tast': 3744, u'cajon': 502, u'bilater': 353, u'obscur': 2512, u'shape': 3300, u'behind': 328, u'unti': 4047, u'simi': 3364, u'unto': 4048, u'timber': 3838, u'cut': 909, u'unsecur': 4038, u'cup': 902, u'snag': 3432, u'perspir': 2692, u'appli': 167, u'snap': 3433, u'input': 1895, u'bridal': 436, u'bin': 355, u'format': 1481, u'big': 351, u'rebound': 2959, u'screwgun': 3238, u'formal': 1480, u'coalinga': 706, u'knock': 2028, u'nozzl': 2499, u'spine': 3490, u'workboat': 4247, u'flue': 1448, u'rehabilit': 3012, u'glove': 1582, u'baggag': 275, u'stormwat': 3592, u'encount': 1222, u'acknowledg': 33, u'back': 263, u'sampl': 3192, u'palo': 2615, u'mirror': 2343, u'monoxid': 2380, u'scald': 3212, u'lamin': 2058, u'per': 2679, u'larg': 2070, u'scalp': 3214, u'carpent': 541, u'peg': 2667, u'pea': 2660, u'nose': 2491, u'machin': 2206, u'odor': 2526, u'annular': 145, u'agreement': 75, u'bp': 418, u'milepost': 2329, u'santa': 3199, u'bx': 493, u'downward': 1112, u'wore': 4244, u'preclud': 2807, u'hatcher': 1693, u'revolut': 3087, u'anterior': 153, u'fccu': 1360, u'primarili': 2832, u'irrit': 1940, u'dispens': 1071, u'oili': 2534, u'martinez': 2254, u'irrig': 1939, u'mutcd': 2422, u'gomaco': 1592, u'framer': 1498, u'next': 2459, u'occupi': 2520, u'ontario': 2547, u'span': 3469, u'agricultur': 76, u'borer': 403, u'submit': 3634, u'custom': 908, u'mkt': 2355, u'includ': 1855, u'suit': 3648, u'junctur': 1994, u'toppl': 3860, u'atop': 227, u'slump': 3420, u'link': 2149, u'switchboard': 3704, u'line': 2145, u'mitig': 2351, u'ut': 4075, u'us': 4067, u'ul': 3965, u'jumbo': 1990, u'uc': 3961, u'curv': 907, u'groundwat': 1640, u'supervisor': 3669, u'overland': 2586, u'dehumidifi': 978, u'cure': 904, u'curb': 903, u'utilil': 4079, u'curl': 905, u'doe': 1096, u'stripper': 3610, u'scrape': 3232, u'bracket': 420, u'furnac': 1532, u'retract': 3079, u'tarp': 3741, u'poway': 2795, u'lent': 2119, u'desert': 1007, u'ago': 73, u'lane': 2067, u'land': 2062, u'fighter': 1395, u'graber': 1603, u'age': 68, u'fresh': 1510, u'noon': 2479, u'code': 713, u'partial': 2637, u'bulkhead': 466, u'renown': 3036, u'demobil': 986, u'westwood': 4199, u'privat': 2838, u'freon': 1508, u'sumter': 3655, u'young': 4281, u'send': 3269, u'granular': 1612, u'moor': 2384, u'blaze': 367, u'maryland': 2255, u'gravel': 1617, u'sent': 3270, u'garden': 1548, u'unhurt': 4007, u'wipe': 4231, u'tri': 3921, u'northwestern': 2489, u'linoleum': 2150, u'harbor': 1683, u'inclin': 1854, u'eve': 1274, u'kansa': 2000, u'reich': 3013, u'integri': 1912, u'headquart': 1704, u'krhook': 2038, u'rack': 2908, u'soffit': 3439, u'crow': 890, u'crop': 884, u'renov': 3035, u'video': 4127, u'lull': 2199, u'index': 1861, u'avalanch': 250, u'standpip': 3547, u'apparatus': 164, u'evacu': 1272, u'access': 19, u'lumber': 2201, u'turnaround': 3952, u'bird': 358, u'lutheran': 2205, u'wilkerson': 4221, u'led': 2105, u'lee': 2108, u'leg': 2111, u'lel': 2115, u'punch': 2886, u'len': 2117, u'closur': 692, u'let': 2122, u'sink': 3372, u'vertic': 4116, u'fifteen': 1391, u'sinc': 3370, u'residenti': 3054, u'bakersfield': 278, u'remark': 3025, u'greas': 1620, u'mnosha': 2357, u'technolog': 3758, u'survey': 3685, u'climb': 682, u'maker': 2220, u'eastbound': 1172, u'calibr': 507, u'foundat': 1490, u'wyom': 4270, u'limb': 2140, u'tap': 3736, u'causal': 574, u'lime': 2141, u'razook': 2942, u'doubl': 1107, u'bush': 486, u'flat': 1428, u'concuss': 778, u'chr': 643, u'chs': 645, u'lock': 2166, u'zim': 4282, u'commut': 747, u'betacom': 346, u'unplug': 4030, u'trail': 3893, u'train': 3895, u'iii': 1820, u'readmit': 2951, u'tunnel': 3947, u'pour': 2794, u'sutter': 3690, u'grader': 1605, u'emerson': 1208, u'obvious': 2516, u'drill': 1128, u'taconit': 3717, u'encas': 1218, u'parkway': 2635, u'aliv': 94, u'bend': 336, u'employe': 1212, u'slid': 3406, u'loca': 2163, u'bent': 338, u'monica': 2374, u'process': 2845, u'pelvic': 2671, u'rode': 3123, u'high': 1736, u'downhil': 1110, u'mixer': 2353, u'slip': 3410, u'schemat': 3220, u'plexigla': 2746, u'hangar': 1677, u'surfac': 3679, u'gce': 1563, u'toxicolog': 3880, u'clement': 678, u'delay': 980, u'lamp': 2059, u'appurten': 179, u'weaken': 4179, u'stand': 3544, u'inhal': 1878, u'tier': 3832, u'hawk': 1697, u'physic': 2706, u'drape': 1121, u'bind': 356, u'counter': 853, u'liner': 2148, u'element': 1196, u'issu': 1945, u'chief': 629, u'unaccept': 3971, u'allow': 99, u'tamper': 3731, u'furnish': 1533, u'adjust': 54, u'thigh': 3800, u'heater': 1711, u'move': 2402, u'meter': 2305, u'georg': 1570, u'onboard': 2539, u'warren': 4165, u'turntabl': 3954, u'lb': 2090, u'la': 2041, u'riprap': 3106, u'labor': 2044, u'marsh': 2252, u'infrastructur': 1873, u'lp': 2192, u'leland': 2116, u'therefor': 3796, u'junction': 1993, u'greater': 1622, u'hurrican': 1797, u'dam': 924, u'dan': 929, u'overal': 2579, u'innermost': 1890, u'strateg': 3600, u'mention': 2297, u'facilit': 1325, u'cage': 500, u'day': 941, u'flail': 1422, u'anyth': 158, u'contus': 818, u'februari': 1367, u'safeway': 3181, u'tracey': 3884, u'disregard': 1075, u'conjuct': 791, u'beneath': 337, u'stock': 3580, u'catenari': 566, u'covina': 862, u'bump': 469, u'upriv': 4060, u'crawlspac': 874, u'static': 3558, u'thirteen': 3805, u'huntington': 1794, u'bay': 310, u'tubular': 3941, u'superstructur': 3667, u'purlin': 2891, u'airlin': 83, u'bernandino': 342, u'shallow': 3298, u'stud': 3619, u'lattic': 2082, u'moveabl': 2403, u'red': 2983, u'clarifi': 663, u'shut': 3345, u'insid': 1898, u'busbar': 484, u'graze': 1619, u'releas': 3018, u'afterward': 67, u'hemet': 1728, u'yard': 4273, u'spill': 3486, u'mortar': 2391, u'could': 852, u'david': 940, u'vehicular': 4100, u'enforc': 1227, u'outsid': 2576, u'presid': 2822, u'retain': 3076, u'retail': 3075, u'south': 3461, u'blown': 380, u'scene': 3218, u'facia': 1322, u'fatigu': 1357, u'sacr': 3175, u'owner': 2598, u'facil': 1324, u'vandam': 4088, u'stencil': 3570, u'start': 3552, u'licens': 2128, u'system': 3710, u'uninsul': 4009, u'fahrenheit': 1330, u'fray': 1502, u'termin': 3782, u'bosch': 405, u'stomach': 3582, u'gear': 1565, u'smolder': 3429, u'argon': 193, u'accompani': 24, u'bulldoz': 468, u'quarri': 2903, u'nobodi': 2467, u'mechan': 2283, u'slack': 3397, u'shrapnel': 3343, u'structur': 3615, u'dowel': 1109, u'mandatori': 2229, u'steep': 3567, u'steer': 3568, u'thereaft': 3794, u'muir': 2412, u'tide': 3829, u'vdc': 4095, u'huger': 1789, u'townhous': 3876, u'magorian': 2212, u'disassembl': 1055, u'mid': 2318, u'mig': 2325, u'innovatech': 1892, u'linda': 2144, u'hydrochlor': 1803, u'preliminari': 2812, u'visalia': 4136, u'eight': 1182, u'atherosclerot': 225, u'inoper': 1893, u'segment': 3264, u'payment': 2658, u'placement': 2732, u'preentri': 2808, u'gather': 1559, u'request': 3049, u'brea': 428, u'face': 1321, u'muriat': 2416, u'occasion': 2518, u'putzmeist': 2897, u'fact': 1326, u'recess': 2965, u'dba': 943, u'bring': 443, u'telehandl': 3762, u'clearanc': 675, u'dattelo': 937, u'bedroom': 322, u'cantilev': 519, u'rough': 3148, u'texa': 3786, u'staff': 3533, u'nois': 2468, u'jax': 1959, u'nonseri': 2478, u'movi': 2405, u'gestur': 1572, u'score': 3229, u'suppos': 3675, u'rusk': 3170, u'familiar': 1343, u'rush': 3169, u'bear': 315, u'beam': 313, u'bean': 314, u'caveon': 579, u'increas': 1858, u'styrofoam': 3626, u'dirti': 1054, u'smash': 3425, u'reluct': 3022, u'organ': 2559, u'wilmington': 4222, u'summon': 3653, u'galvan': 1543, u'rappel': 2933, u'integr': 1911, u'withstand': 4238, u'farthest': 1349, u'packer': 2604, u'frame': 1497, u'malfunct': 2223, u'temporarili': 3770, u'particl': 2639, u'wire': 4232, u'arteriosclerot': 205, u'ralph': 2923, u'progress': 2852, u'superior': 3666, u'easthampton': 1173, u'panelboard': 2621, u'effluent': 1180, u'instant': 1903, u'buster': 489, u'ramp': 2926, u'drug': 1141, u'northridg': 2486, u'etc': 1269, u'doorway': 1103, u'instanc': 1902, u'cinder': 651, u'highland': 1739, u'wr': 4258, u'comment': 742, u'vent': 4105, u'co': 704, u'cm': 701, u'ca': 495, u'cg': 601, u'commenc': 741, u'oakland': 2510, u'uci': 3962, u'asphyxia': 214, u'ladderjack': 2051, u'linemen': 2147, u'triniti': 3927, u'insuffici': 1907, u'drank': 1120, u'electr': 1190, u'feather': 1364, u'yale': 4272, u'louisiana': 2187, u'ballast': 283, u'ls': 2194, u'concours': 776, u'deglov': 974, u'assert': 217, u'togeth': 3849, u'bull': 467, u'bulb': 465, u'fellow': 1374, u'laser': 2074, u'runway': 3166, u'demolit': 988, u'rigger': 3101, u'rectangular': 2981, u'ounc': 2566, u'bayview': 311, u'bathtub': 307, u'howev': 1783, u'groin': 1635, u'va': 4080, u'intercoast': 1918, u'purchas': 2888, u'helper': 1726, u'eastward': 1174, u'almost': 100, u'metatars': 2304, u'site': 3374, u'tendin': 3775, u'counterweight': 855, u'substanti': 3638, u'partner': 2643, u'inspector': 1900, u'grinder': 1631, u'contributori': 816, u'juan': 1985, u'secondat': 3256, u'handl': 1671, u'auto': 243, u'coronari': 839, u'tighten': 3835, u'boatwain': 387, u'columbia': 732, u'cofferdam': 716, u'cubic': 899, u'expans': 1295, u'bale': 281, u'drink': 1130, u'upon': 4056, u'coffe': 714, u'never': 2453, u'canva': 520, u'ikea': 1822, u'reclam': 2969, u'retard': 3077, u'center': 590, u'dock': 1092, u'shotgun': 3336, u'diversifi': 1087, u'antonio': 156, u'thought': 3812, u'command': 740, u'shackl': 3292, u'personnel': 2691, u'audio': 239, u'usual': 4074, u'mastic': 2261, u'less': 2121, u'clinic': 684, u'abat': 4, u'methan': 2308, u'glue': 1585, u'griffith': 1628, u'flashlight': 1427, u'web': 4182, u'tight': 3834, u'gmc': 1587, u'lake': 2056, u'bench': 334, u'arrest': 200, u'ductwork': 1147, u'crack': 865, u'piec': 2713, u'haul': 1695, u'realiz': 2952, u'cedar': 582, u'height': 1716, u'pier': 2714, u'insert': 1897, u'resid': 3053, u'like': 2139, u'success': 3641, u'corpor': 841, u'unintellig': 4010, u'resin': 3056, u'rabbet': 2907, u'soft': 3440, u'sprain': 3511, u'heel': 1715, u'italian': 1946, u'vsr': 4148, u'haig': 1656, u'propel': 2862, u'hair': 1657, u'convey': 821, u'flush': 1454, u'proper': 2863, u'faint': 1333, u'transport': 3903, u'tractorat': 3888, u'supervisori': 3670, u'avoid': 253, u'hwi': 1800, u'slide': 3407, u'shone': 3325, u'sustain': 3689, u'kangaroot': 1999, u'mode': 2360, u'stairway': 3539, u'hose': 1775, u'dci': 944, u'mantl': 2241, u'host': 1778, u'although': 110, u'dcs': 945, u'stage': 3534, u'rubbl': 3157, u'jam': 1954, u'actual': 44, u'socket': 3437, u'waist': 4151, u'documentari': 1095, u'ingest': 1876, u'saleabl': 3186, u'actuat': 45, u'unground': 4004, u'schuyler': 3223, u'assess': 218, u'guard': 1644, u'lung': 2203, u'rectifi': 2982, u'leverag': 2125, u'sander': 3196, u'formwork': 1484, u'stainless': 3536, u'rcr': 2944, u'joaquin': 1969, u'much': 2409, u'groundman': 1639, u'deliveri': 982, u'tiean': 3831, u'bus': 483, u'brand': 425, u'grate': 1616, u'inlin': 1886, u'baptist': 290, u'placer': 2733, u'veget': 4098, u'ditchwitch': 1083, u'smooth': 3430, u'flip': 1440, u'otherwis': 2565, u'problem': 2842, u'pin': 2719, u'domino': 1100, u'orbit': 2556, u'life': 2132, u'novemb': 2498, u'inn': 1888, u'ing': 1874, u'pit': 2728, u'campus': 514, u'inc': 1848, u'automot': 246, u'salesman': 3187, u'baghous': 276, u'detail': 1014, u'sewer': 3291, u'variabl': 4092, u'repeat': 3043, u'veit': 4102, u'monday': 2373, u'bladder': 363, u'fluor': 1451, u'rey': 3090, u'spreader': 3514, u'inboard': 1847, u'seismic': 3265, u'basketbal': 305, u'baker': 277, u'benchtop': 335, u'rule': 3159, u'gardena': 1549, u'armor': 197, u'spinous': 3491, u'yell': 4276, u'foothil': 1466, u'midrail': 2321, u'hitch': 1751, u'sleev': 3405, u'sleep': 3403, u'upsid': 4062, u'skeleton': 3381, u'trolley': 3931, u'const': 800, u'concret': 777, u'worth': 4255, u'humerus': 1790, u'hardpan': 1687, u'everi': 1278, u'risk': 3110, u'rise': 3108, u'vitreous': 4142, u'jack': 1949, u'upstream': 4063, u'school': 3221, u'pinch': 2720, u'cme': 702, u'cmu': 703, u'fairfax': 1335, u'cutterhead': 913, u'direct': 1051, u'horn': 1774, u'nail': 2426, u'consequ': 795, u'street': 3603, u'castro': 559, u'wynkoop': 4269, u'monorail': 2379, u'blue': 382, u'supervis': 3668, u'disk': 1065, u'worsen': 4254, u'amus': 128, u'near': 2436, u'poison': 2763, u'lakesid': 2057, u'polyest': 2770, u'conduct': 783, u'supplier': 3673, u'told': 3852, u'diponio': 1050, u'hopkin': 1771, u'lodg': 2169, u'locomot': 2168, u'beco': 319, u'ethanol': 1270, u'multifamili': 2414, u'path': 2649, u'leaver': 2104, u'yarmouth': 4274, u'precis': 2806, u'smoke': 3428, u'bunker': 473, u'midway': 2323, u'portabl': 2780, u'barricad': 298, u'plenum': 2745, u'strap': 3599, u'garag': 1546, u'atrium': 228, u'total': 3868, u'rancho': 2929, u'describ': 1006, u'would': 4256, u'bleed': 371, u'hanov': 1679, u'comcast': 737, u'spike': 3485, u'cottag': 848, u'phone': 2703, u'moin': 2366, u'must': 2421, u'shoot': 3327, u'irvin': 1941, u'join': 1976, u'ingersol': 1875, u'restor': 3067, u'work': 4245, u'mi': 2316, u'worm': 4253, u'serrat': 3278, u'utilex': 4078, u'elbow': 1188, u'eri': 1257, u'shook': 3326, u'loosen': 2180, u'airstrip': 86, u'indic': 1862, u'impair': 1834, u'walsh': 4159, u'end': 1223, u'bunk': 472, u'length': 2118, u'recoveri': 2978, u'rewind': 3088, u'interview': 1927, u'verifi': 4112, u'beach': 312, u'collaps': 721, u'uprais': 4058, u'fever': 1384, u'shakeout': 3297, u'rebar': 2957, u'ladder': 2050, u'earlier': 1166, u'lab': 2042, u'befor': 324, u'mesh': 2300, u'lay': 2087, u'arco': 190, u'arch': 186, u'parallel': 2626, u'demonstr': 989, u'las': 2073, u'opaqu': 2549, u'spout': 3509, u'spous': 3508, u'unsteadi': 4043, u'detent': 1017, u'environ': 1245, u'reloc': 3021, u'enter': 1237, u'ultraviolet': 3968, u'vapor': 4091, u'order': 2558, u'diagnos': 1026, u'offici': 2529, u'fall': 1338, u'orang': 2555, u'becaus': 318, u'london': 2173, u'incid': 1851, u'japan': 1957, u'caster': 556, u'flexibl': 1437, u'gainesvill': 1540, u'tennesse': 3777, u'airborn': 80, u'gastrointestin': 1557, u'llp': 2159, u'subfloor': 3631, u'bostitch': 407, u'inadvert': 1845, u'offic': 2528, u'condition': 781, u'benward': 339, u'sheav': 3306, u'shear': 3304, u'epdm': 1249, u'iowa': 1936, u'fragment': 1496, u'plaster': 2741, u'safe': 3179, u'break': 429, u'band': 286, u'bang': 287, u'coffer': 715, u'rental': 3038, u'bank': 289, u'oxygen': 2599, u'chuck': 646, u'detroit': 1020, u'newport': 2457, u'rocki': 3121, u'prohibit': 2853, u'hanger': 1678, u'lugger': 2198, u'unscrew': 4037, u'group': 1641, u'fairmont': 1336, u'saturday': 3202, u'depress': 999, u'ripsaw': 3107, u'newli': 2456, u'diesel': 1035, u'sand': 3194, u'laid': 2054, u'daniel': 932, u'got': 1600, u'washer': 4167, u'forth': 1486, u'swell': 3699, u'buckatunna': 457, u'putti': 2896, u'barrier': 299, u'rail': 2915, u'precaut': 2803, u'free': 1504, u'standard': 3545, u'monigan': 2375, u'hairlin': 1658, u'angl': 138, u'local': 2164, u'filter': 1397, u'shrubberi': 3344, u'rais': 2920, u'spanit': 3471, u'onto': 2548, u'pfas': 2699, u'rand': 2930, u'rang': 2931, u'render': 3033, u'apprais': 171, u'independ': 1860, u'restrict': 3070, u'subcontractor': 3629, u'alreadi': 105, u'thick': 3799, u'brakemen': 423, u'fluorid': 1453, u'tyson': 3960, u'nomin': 2469, u'top': 3859, u'tow': 3870, u'wastewat': 4171, u'ton': 3853, u'degreas': 977, u'john': 1974, u'toe': 3848, u'consol': 799, u'tool': 3856, u'took': 3855, u'compressor': 767, u'incur': 1859, u'western': 4197, u'lather': 2081, u'hitachi': 1750, u'provid': 2872, u'rate': 2937, u'aztec': 262, u'final': 1399, u'merci': 2299, u'paralysi': 2627, u'flame': 1423, u'iron': 1937, u'minut': 2341, u'provis': 2873, u'rag': 2914, u'lbs': 2091, u'fashion': 1352, u'legionella': 2112, u'ran': 2927, u'ram': 2924, u'manner': 2238, u'subsid': 3636, u'anchorag': 134, u'recreat': 2979, u'deconstruct': 964, u'snow': 3436, u'thorough': 3810, u'client': 680, u'hatch': 1692, u'tibia': 3827, u'dermal': 1001, u'insur': 1909, u'though': 3811, u'autopsi': 247, u'millimet': 2333, u'phase': 2701, u'coil': 717, u'insul': 1908, u'everyth': 1280, u'ejector': 1186, u'fitter': 1413, u'metal': 2303, u'freeway': 1505, u'declar': 961, u'pankow': 2622, u'opposit': 2553, u'sage': 3183, u'lurch': 2204, u'radio': 2910, u'carotid': 540, u'earth': 1167, u'involv': 1934, u'alvar': 113, u'configur': 788, u'minnesota': 2339, u'deepest': 969, u'steel': 3566, u'trackho': 3886, u'dh': 1025, u'de': 947, u'watch': 4172, u'fluid': 1449, u'watson': 4175, u'report': 3046, u'reconstruct': 2974, u'toolbox': 3857, u'chanel': 609, u'peppertre': 2678, u'scalfold': 3213, u'lexington': 2126, u'public': 2879, u'emt': 1215, u'erupt': 1261, u'rung': 3163, u'gaug': 1560, u'septemb': 3272, u'steam': 3563, u'nut': 2505, u'resist': 3057, u'themselv': 3792, u'nonflamm': 2472, u'shotcret': 3335, u'awar': 255, u'away': 256, u'mud': 2410, u'finger': 1402, u'drawn': 1124, u'approach': 174, u'accord': 26, u'elk': 1199, u'weak': 4178, u'wj': 4239, u'wi': 4216, u'boss': 406, u'southeast': 3463, u'ws': 4267, u'wear': 4180, u'intox': 1928, u'news': 2458, u'emplye': 1213, u'kitchen': 2021, u'cop': 828, u'protect': 2867, u'acoust': 36, u'fault': 1358, u'ill': 1824, u'myer': 2423, u'ventricular': 4107, u'recircul': 2967, u'widen': 4218, u'applianc': 168, u'excess': 1287, u'wider': 4219, u'guid': 1647, u'truss': 3938, u'speak': 3474, u'bathroom': 306, u'blower': 379, u'accumul': 27, u'disengag': 1064, u'loft': 2170, u'hacksaw': 1655, u'vulcan': 4149, u'hoist': 1757, u'els': 1201, u'catch': 565, u'physician': 2707, u'save': 3203, u'properti': 2864, u'air': 79, u'thrash': 3814, u'aid': 78, u'kentucki': 2007, u'dizzi': 1091, u'handrail': 1673, u'sting': 3578, u'need': 2442, u'brake': 422, u'cone': 786, u'exterior': 1308, u'hardlin': 1686, u'inpati': 1894, u'descent': 1005, u'perform': 2682, u'suggest': 3647, u'wound': 4257, u'forehead': 1471, u'pothol': 2792, u'complex': 760, u'descend': 1004, u'mayo': 2270, u'complet': 759, u'wheel': 4202, u'evid': 1281, u'screw': 3236, u'pubi': 2878, u'hang': 1676, u'rain': 2918, u'hand': 1667, u'fuse': 1534, u'portal': 2781, u'nip': 2465, u'dado': 920, u'welder': 4190, u'kept': 2008, u'dade': 919, u'drip': 1131, u'ocean': 2523, u'contact': 805, u'mother': 2393, u'jean': 1961, u'epa': 1248, u'rolleron': 3131, u'farther': 1348, u'victim': 4126, u'jose': 1980, u'lineman': 2146, u'expos': 1303, u'mix': 2352, u'help': 1725, u'shout': 3338, u'spread': 3513, u'board': 384, u'cherri': 623, u'cervic': 600, u'pedest': 2665, u'gave': 1561, u'cramer': 866, u'mayb': 2269, u'groen': 1634, u'dismount': 1069, u'burnt': 479, u'divert': 1088, u'apart': 161, u'mesothelioma': 2301, u'cooler': 825, u'orlando': 2561, u'bitumin': 360, u'unspool': 4041, u'unstabl': 4042, u'night': 2461, u'hung': 1793, u'cleanout': 672, u'manual': 2242, u'goleman': 1591, u'piston': 2727, u'bore': 402, u'cooper': 827, u'flagman': 1421, u'ice': 1812, u'skylight': 3393, u'overcom': 2580, u'icu': 1813, u'cord': 832, u'core': 834, u'confer': 787, u'jackhamm': 1951, u'corp': 840, u'corr': 842, u'eye': 1315, u'post': 2787, u'pli': 2747, u'plug': 2750, u'awn': 258, u'abdomin': 6, u'choke': 638, u'surround': 3684, u'caulk': 572, u'plus': 2755, u'produc': 2846, u'unrespons': 4034, u'injuri': 1883, u'thermostat': 3798, u'ppe': 2799, u'civil': 660, u'petroleum': 2696, u'bounc': 413, u'decapit': 956, u'samew': 3191, u'rhabdomyolyi': 3092, u'ppm': 2800, u'kaweah': 2003, u'payn': 2659, u'coastal': 708, u'dean': 953, u'storag': 3588, u'renail': 3031, u'transform': 3900, u'nonon': 2475, u'stuck': 3618, u'anderson': 135, u'way': 4177, u'gin': 1575, u'lowest': 2190, u'head': 1701, u'medium': 2288, u'heav': 1713, u'heat': 1710, u'hear': 1707, u'catalyst': 562, u'refriger': 3003, u'true': 3936, u'reset': 3052, u'absent': 14, u'wineri': 4229, u'sludg': 3417, u'maximum': 2267, u'toggl': 3850, u'absenc': 13, u'latch': 2077, u'emit': 1209, u'trim': 3926, u'sealant': 3245, u'alongsid': 104, u'aorta': 159, u'forearm': 1470, u'rollat': 3127, u'abstract': 15, u'backsid': 269, u'sealand': 3244, u'whereabout': 4206, u'reenter': 2992, u'door': 1102, u'mold': 2368, u'trip': 3928, u'assembl': 216, u'stake': 3541, u'tip': 3842, u'ne': 2435, u'ny': 2508, u'test': 3784, u'tie': 3830, u'nr': 2500, u'nv': 2506, u'thorac': 3807, u'toad': 3847, u'deton': 1019, u'consid': 796, u'stairwel': 3540, u'thorax': 3809, u'longer': 2175, u'turbul': 3950, u'serious': 3277, u'backward': 271, u'consum': 804, u'rod': 3122, u'signific': 3360, u'supplement': 3671, u'llc': 2157, u'rot': 3145, u'row': 3153, u'norwalk': 2490, u'middl': 2319, u'zone': 4284, u'proxim': 2874, u'turbin': 3948, u'environment': 1246, u'hoistway': 1758, u'damageto': 926, u'henderson': 1730, u'brown': 450, u'coop': 826, u'ensu': 1234, u'airlift': 82, u'tailgat': 3723, u'octob': 2525, u'desulfur': 1012, u'blast': 366, u'cool': 824, u'administr': 56, u'level': 2123, u'necessit': 2440, u'underw': 3994, u'gun': 1648, u'respiratori': 3061, u'gut': 1650, u'quick': 2905, u'lever': 2124, u'guy': 1652, u'lloyd': 2158, u'upper': 4057, u'plummet': 2753, u'empir': 1210, u'eisenhow': 1183, u'inland': 1884, u'cost': 846, u'charnesbi': 616, u'bacteria': 272, u'precipit': 2805, u'cargo': 537, u'appear': 165, u'scaffold': 3211, u'remain': 3023, u'kilomet': 2017, u'setter': 3282, u'defici': 972, u'handyman': 1675, u'water': 4173, u'entertain': 1239, u'bystand': 494, u'planter': 2739, u'buck': 456, u'buci': 455, u'sheriff': 3312, u'denatur': 990, u'jaw': 1958, u'triag': 3922, u'male': 2222, u'rafael': 2912, u'promot': 2855, u'explod': 1301, u'extra': 1311, u'swerv': 3700, u'visibl': 4137, u'spoutless': 3510, u'mobil': 2358, u'iipp': 1821, u'memori': 2293, u'live': 2155, u'handler': 1672, u'tape': 3737, u'bigg': 352, u'collarbon': 723, u'conductor': 784, u'countertop': 854, u'club': 697, u'drown': 1140, u'unconsci': 3985, u'sequoia': 3274, u'ventur': 4108, u'suffoc': 3646, u'car': 529, u'prepar': 2817, u'cap': 523, u'judg': 1987, u'trane': 3898, u'jude': 1986, u'cat': 561, u'compart': 753, u'handsaw': 1674, u'inadequ': 1844, u'cal': 503, u'cab': 496, u'purpos': 2892, u'heart': 1709, u'stream': 3602, u'chip': 633, u'explos': 1302, u'heard': 1708, u'stroke': 3612, u'chin': 632, u'grassi': 1615, u'unguard': 4005, u'contamin': 807, u'hydrogen': 1804, u'occur': 2521, u'occup': 2519, u'multipl': 2415, u'richland': 3094, u'hematoma': 1727, u'switchgear': 3705, u'write': 4263, u'alway': 115, u'ventil': 4106, u'fourth': 1492, u'hypertens': 1807, u'flang': 1425, u'draglin': 1117, u'product': 2847, u'superintend': 3665, u'dive': 1084, u'use': 4071, u'southern': 3465, u'whacker': 4201, u'cours': 859, u'passeng': 2646, u'nonoccup': 2474, u'classroom': 667, u'practic': 2801, u'liquid': 2151, u'corona': 838, u'inform': 1872, u'fulltim': 1527, u'manbucket': 2228, u'hilltop': 1743, u'handhold': 1669, u'approx': 177, u'anticip': 155, u'midnight': 2320, u'brain': 421, u'thinner': 3803, u'nitrogen': 2466, u'csho': 898, u'cold': 719, u'still': 3577, u'dynam': 1158, u'rooftop': 3135, u'apex': 162, u'platform': 2744, u'window': 4227, u'farmer': 1347, u'cutter': 912, u'float': 1441, u'recal': 2961, u'halv': 1665, u'profession': 2848, u'rake': 2921, u'bound': 414, u'underneath': 3992, u'half': 1659, u'cyanid': 915, u'skidsteer': 3384, u'discuss': 1062, u'term': 3781, u'name': 2428, u'clutch': 700, u'drop': 1138, u'kern': 2009, u'cerebr': 594, u'januari': 1956, u'em': 1202, u'el': 1187, u'outrigg': 2575, u'citat': 656, u'replac': 3044, u'individu': 1863, u'torch': 3861, u'ea': 1162, u'begun': 327, u'year': 4275, u'ft': 1521, u'happen': 1681, u'dispos': 1074, u'ep': 1247, u'shown': 3342, u'accomplish': 25, u'space': 3468, u'dredg': 1125, u'oklahoma': 2536, u'underwrit': 3997, u'factori': 1328, u'skillsaw': 3387, u'cart': 550, u'cari': 538, u'rebel': 2958, u'marina': 2250, u'cedarapid': 583, u'card': 532, u'care': 536, u'fungus': 1530, u'refus': 3005, u'motion': 2394, u'turn': 3951, u'place': 2731, u'swing': 3702, u'charleston': 615, u'origin': 2560, u'pelican': 2669, u'cemment': 589, u'suspend': 3687, u'omniair': 2538, u'overspray': 2594, u'wedg': 4183, u'suspens': 3688, u'bobcat': 389, u'array': 199, u'drove': 1139, u'angular': 140, u'size': 3379, u'sheep': 3307, u'given': 1578, u'sheet': 3308, u'district': 1080, u'caught': 571, u'reli': 3019, u'plastic': 2742, u'circl': 652, u'iat': 1810, u'white': 4212, u'pettybon': 2698, u'girder': 1576, u'hug': 1787, u'sebastopol': 3251, u'cope': 829, u'copi': 830, u'circumst': 655, u'specifi': 3479, u'eagl': 1163, u'enclos': 1219, u'redland': 2984, u'holder': 1760, u'serv': 3279, u'wide': 4217, u'hauswald': 1696, u'tailpip': 3724, u'balanc': 279, u'leadman': 2095, u'posit': 2784, u'extinguish': 1310, u'seri': 3275, u'fork': 1477, u'ana': 129, u'angel': 137, u'pro': 2839, u'premier': 2814, u'pri': 2830, u'ani': 142, u'reno': 3034, u'mateo': 2263, u'rent': 3037, u'deliv': 981, u'slag': 3398, u'slab': 3396, u'engin': 1229, u'techniqu': 3757, u'veteran': 4119, u'hsopit': 1784, u'mckee': 2272, u'ideal': 1814, u'gantri': 1544, u'blunt': 383, u'kathabar': 2002, u'surg': 3680, u'begin': 326, u'sure': 3678, u'surl': 3683, u'polyvinyl': 2773, u'spangler': 3470, u'methylen': 2312, u'fci': 1361, u'peninsula': 2674, u'tendon': 3776, u'renal': 3032, u'rescu': 3051, u'later': 2079, u'quantiti': 2902, u'peterbilt': 2694, u'meanwhil': 2281, u'profus': 2849, u'aerosol': 63, u'mri': 2408, u'slope': 3413, u'solar': 3442, u'femur': 1378, u'berm': 341, u'permiss': 2688, u'southwestern': 3467, u'fifth': 1392, u'shingl': 3318, u'onli': 2544, u'stair': 3537, u'brigg': 441, u'unventil': 4050, u'written': 4264, u'wood': 4241, u'analyz': 132, u'sierra': 3354, u'crimp': 880, u'crimper': 881, u'presbyterian': 2819, u'lug': 2197, u'mission': 2348, u'orthoped': 2562, u'skylock': 3394, u'homestead': 1767, u'whihc': 4210, u'reveal': 3083, u'healthwork': 1706, u'aluminum': 112, u'held': 1718, u'leather': 2102, u'telecommun': 3761, u'fmcsa': 1456, u'burst': 482, u'spore': 3504, u'pancrea': 2618, u'sport': 3505, u'concern': 771, u'detect': 1015, u'review': 3085, u'pettibon': 2697, u'import': 1840, u'paramet': 2629, u'westbound': 4196, u'comp': 748, u'flow': 1446, u'cycl': 916, u'coma': 734, u'come': 738, u'reaction': 2947, u'pertain': 2693, u'ruptur': 3167, u'contract': 811, u'fractu': 1494, u'prestraighten': 2825, u'hobb': 1754, u'spoil': 3501, u'color': 730, u'pot': 2789, u'period': 2685, u'dispatch': 1070, u'duti': 1156, u'pole': 2765, u'featur': 1366, u'colon': 729, u'poli': 2766, u'damag': 925, u'temecula': 3766, u'knoxvill': 2033, u'coupl': 857, u'midsect': 2322, u'invert': 1932, u'stucco': 3617, u'addit': 49, u'masonri': 2257, u'drum': 1142, u'pilot': 2718, u'case': 554, u'shaft': 3295, u'casa': 553, u'longitudin': 2176, u'pedant': 2664, u'mount': 2398, u'cast': 555, u'winkl': 4230, u'hatchway': 1694, u'mound': 2397, u'refineri': 2996, u'vest': 4118, u'sawdust': 3205, u'soil': 3441, u'inju': 1881, u'rollemploye': 3128, u'coupler': 858, u'beaver': 316, u'helmet': 1724, u'develop': 1021, u'author': 242, u'guardrial': 1646, u'medic': 2287, u'coke': 718, u'check': 619, u'komatsu': 2035, u'lite': 2153, u'sticki': 3575, u'week': 4184, u'sweeper': 3698, u'grossmont': 1637, u'closest': 690, u'nest': 2449, u'foam': 1457, u'driver': 1134, u'someon': 3452, u'driven': 1133, u'campbel': 513, u'footprint': 1467, u'weep': 4186, u'eucalyptus': 1271, u'theater': 3788, u'ccx': 581, u'charger': 613, u'ranch': 2928, u'facad': 1320, u'ccr': 580, u'without': 4237, u'relief': 3020, u'joystick': 1983, u'taxi': 3748, u'kilz': 2019, u'staircas': 3538, u'edema': 1176, u'worksit': 4251, u'clot': 693, u'violent': 4134, u'kill': 2015, u'kiln': 2016, u'touch': 3869, u'polish': 2769, u'speed': 3482, u'halfway': 1660, u'blow': 378, u'death': 954, u'miscellan': 2345, u'rose': 3142, u'except': 1286, u'pallet': 2612, u'hing': 1745, u'treatment': 3915, u'aerospac': 64, u'struck': 3614, u'disrupt': 1076, u'pulmonari': 2883, u'momentum': 2372, u'ross': 3144, u'earli': 1165, u'psi': 2876, u'psl': 2877, u'blowout': 381, u'read': 2948, u'outermost': 2571, u'stung': 3623, u'virginia': 4135, u'pse': 2875, u'archway': 189, u'amp': 125, u'implant': 1838, u'rear': 2954, u'farwest': 1350, u'rollon': 3132, u'callap': 510, u'unlimit': 4023, u'scissorlift': 3226, u'tower': 3874, u'sharp': 3301, u'verbal': 4110, u'gooseneck': 1596, u'interlock': 1920, u'hydraul': 1801, u'kaiser': 1997, u'micro': 2317, u'landscap': 2066, u'throat': 3819, u'dealership': 951, u'keyston': 2012, u'complic': 763, u'immun': 1832, u'sixth': 3377, u'garbag': 1547, u'inspect': 1899, u'journeyman': 1981, u'throw': 3821, u'central': 592, u'chop': 641, u'degre': 976, u'intens': 1914, u'wolf': 4240, u'oz': 2600, u'underway': 3996, u'decon': 963, u'underwat': 3995, u'backup': 270, u'hentg': 1732, u'amber': 116, u'routin': 3152, u'aortic': 160, u'gari': 1550, u'spinal': 3488, u'nurs': 2504, u'tular': 3944, u'palm': 2613, u'log': 2171, u'unat': 3974, u'area': 191, u'los': 2181, u'low': 2188, u'lot': 2185, u'valley': 4085, u'fascia': 1351, u'morrison': 2390, u'leach': 2092, u'thirteenth': 3806, u'jug': 1988, u'regard': 3007, u'cabinet': 497, u'diffus': 1039, u'procedur': 2843, u'wirtgen': 4234, u'thaw': 3787, u'muddi': 2411, u'hire': 1747, u'immedi': 1831, u'stanford': 3549, u'flatb': 1429, u'bucket': 458, u'aneurysm': 136, u'grasp': 1613, u'grass': 1614, u'toilet': 3851, u'nerv': 2448, u'momentarili': 2371, u'sheath': 3305, u'encompass': 1221, u'russel': 3171, u'energi': 1226, u'reclin': 2970, u'antenna': 152, u'paddl': 2606, u'compel': 754, u'chiller': 630, u'rubber': 3156, u'compet': 756, u'earthen': 1168, u'trash': 3907, u'poor': 2777, u'polar': 2764, u'bricklay': 435, u'teeth': 3759, u'drift': 1127, u'cordless': 833, u'briefli': 439, u'peak': 2661, u'fasten': 1354, u'pool': 2776, u'reduc': 2987, u'cellul': 586, u'derrick': 1002, u'booker': 398, u'potenti': 2791, u'westvaco': 4198, u'degrad': 975, u'repav': 3042, u'lace': 2046, u'epipen': 1250, u'month': 2383, u'disc': 1056, u'follow': 1460, u'settlement': 3284, u'carpet': 543, u'griffin': 1627, u'dairi': 923, u'infirmari': 1868, u'thursday': 3826, u'hyperthermia': 1808, u'program': 2851, u'present': 2820, u'apport': 170, u'precast': 2802, u'filtrat': 1398, u'far': 1345, u'mph': 2407, u'solex': 3446, u'vermeer': 4113, u'fan': 1344, u'fal': 1337, u'failur': 1332, u'veri': 4111, u'slone': 3412, u'fontainebleau': 1462, u'list': 2152, u'finksburg': 1405, u'trench': 3920, u'maxicret': 2266, u'dimens': 1045, u'unmark': 4026, u'ten': 3771, u'rop': 3139, u'narrat': 2429, u'pressur': 2824, u'design': 1008, u'solvent': 3450, u'casual': 560, u'harden': 1685, u'sun': 3656, u'dirt': 1053, u'brief': 438, u'overload': 2589, u'retrofit': 3081, u'crush': 894, u'intersect': 1925, u'lacquer': 2049, u'pacif': 2602, u'skidder': 3383, u'lack': 2048, u'modular': 2365, u'pendant': 2672, u'berkeley': 340, u'raker': 2922, u'strong': 3613, u'modifi': 2363, u'arena': 192, u'loma': 2172, u'cve': 914, u'traumat': 3909, u'ahead': 77, u'courthous': 860, u'amount': 124, u'runoff': 3165, u'flash': 1426, u'jrb': 1984, u'intermedi': 1921, u'put': 2895, u'famili': 1342, u'clifford': 681, u'thedford': 3789, u'proceed': 2844, u'unapprov': 3973, u'tarpaulin': 3742, u'taken': 3726, u'brunswick': 452, u'minor': 2340, u'reattach': 2956, u'turbo': 3949, u'israel': 1944, u'tumbl': 3945, u'hurri': 1796, u'flag': 1419, u'stick': 3574, u'broke': 445, u'known': 2032, u'suction': 3642, u'document': 1094, u'abras': 12, u'grill': 1629, u'berth': 343, u'eden': 1177, u'unconfirm': 3984, u'nine': 2462, u'caveat': 578, u'abrad': 11, u'oilfield': 2533, u'protecta': 2868, u'templar': 3768, u'methodist': 2310, u'sourc': 3460, u'pond': 2774, u'swung': 3707, u'lancast': 2061, u'divid': 1089, u'rather': 2938, u'anoth': 147, u'ledger': 2107, u'divis': 1090, u'gash': 1554, u'okay': 2535, u'taho': 3720, u'gase': 1553, u'reflect': 2999, u'fe': 1362, u'fl': 1418, u'fm': 1455, u'stabil': 3527, u'short': 3331, u'footer': 1465, u'overnight': 2590, u'ricochet': 3095, u'caus': 573, u'shore': 3330, u'resuscit': 3074, u'shade': 3293, u'began': 325, u'cimino': 650, u'soon': 3457, u'paramed': 2628, u'manilla': 2234, u'thermal': 3797, u'reconnect': 2973, u'helm': 1723, u'cardiovascular': 535, u'style': 3624, u'inward': 1935, u'altec': 107, u'runat': 3161, u'might': 2326, u'alter': 108, u'pittman': 2730, u'return': 3082, u'food': 1463, u'framework': 1499, u'vomit': 4146, u'foot': 1464, u'abacus': 2, u'chicago': 627, u'styren': 3625, u'chamfer': 607, u'compris': 768, u'radial': 2909, u'fulli': 1526, u'anhydr': 141, u'trailer': 3894, u'dig': 1040, u'weight': 4188, u'unwis': 4052, u'brother': 448, u'heavi': 1714, u'ball': 282, u'expect': 1296, u'beyond': 348, u'event': 1276, u'safeti': 3180, u'alcohol': 91, u'robert': 3118, u'unknown': 4020, u'health': 1705, u'hill': 1741, u'shipment': 3320, u'jolla': 1979, u'fiber': 1386, u'pneumothorax': 2760, u'advanc': 59, u'friday': 1514, u'effect': 1179, u'reason': 2955, u'base': 301, u'ask': 211, u'ash': 210, u'sidewalk': 3351, u'lag': 2053, u'thrown': 3822, u'thread': 3815, u'launch': 2083, u'veloc': 4103, u'whitetail': 4213, u'american': 120, u'circuit': 653, u'undergo': 3989, u'fallen': 1339, u'assign': 219, u'feed': 1369, u'dine': 1047, u'notifi': 2497, u'feel': 1371, u'deenerg': 966, u'feet': 1372, u'dust': 1155, u'construct': 801, u'cleasbi': 676, u'blank': 365, u'membran': 2291, u'miss': 2347, u'trapez': 3906, u'scripp': 3239, u'paint': 2609, u'swarm': 3694, u'stori': 3590, u'station': 3559, u'expand': 1294, u'storm': 3591, u'store': 3589, u'mainstay': 2215, u'adher': 51, u'pump': 2885, u'hotel': 1780, u'rivet': 3114, u'dynapak': 1160, u'chair': 604, u'northbound': 2483, u'uncut': 3987, u'kind': 2020, u'remot': 3029, u'remov': 3030, u'grey': 1625, u'groceri': 1633, u'bridg': 437, u'squeaki': 3524, u'toward': 3872, u'builder': 462, u'adhes': 52, u'atmospher': 226, u'exert': 1289, u'plaska': 2740, u'engulf': 1230, u'morgu': 2388, u'remodel': 3028, u'lid': 2129, u'lie': 2130, u'wilson': 4223, u'unintend': 4011, u'dentur': 993, u'violat': 4133, u'stapl': 3550, u'moist': 2367, u'unintent': 4012, u'screwdriv': 3237, u'foreman': 1473, u'choos': 640, u'reach': 2945, u'mixtur': 2354, u'react': 2946, u'dielectr': 1034, u'kat': 2001, u'watt': 4176, u'mack': 2208, u'clear': 674, u'cleat': 677, u'destruct': 1011, u'part': 2636, u'clean': 671, u'bruis': 451, u'notch': 2492, u'blend': 373, u'humid': 1791, u'asphalt': 212, u'memorandum': 2292, u'taller': 3729, u'northern': 2485, u'flesh': 1434, u'inciner': 1852, u'hip': 1746, u'kilovolt': 2018, u'hit': 1749, u'waterproof': 4174, u'intensifi': 1915, u'basement': 302, u'chimney': 631, u'molten': 2369, u'dormer': 1104, u'brush': 453, u'glover': 1583, u'vincent': 4131, u'tehama': 3760, u'sunrez': 3659, u'certif': 598, u'seventeen': 3287, u'fluoresc': 1452, u'stump': 3622, u'dump': 1151, u'outboard': 2568, u'pvc': 2898, u'arc': 185, u'bare': 293, u'barg': 294, u'close': 688, u'unqualifi': 4032, u'arm': 195, u'multiemploy': 2413, u'barn': 295, u'brasfield': 427, u'ridgelin': 3098, u'particip': 2638, u'stall': 3542, u'various': 4093, u'plywood': 2756, u'nailer': 2427, u'numer': 2503, u'sold': 3443, u'sole': 3445, u'underdeck': 3988, u'isol': 1943, u'outfit': 2572, u'lifelin': 2133, u'spray': 3512, u'fgd': 1385, u'errat': 1259, u'zipper': 4283, u'undetermin': 3998, u'vault': 4094, u'protector': 2869, u'deadman': 949, u'eploye': 1251, u'sky': 3391, u'sweep': 3697, u'residu': 3055, u'header': 1703, u'batteri': 309, u'catwalk': 570, u'dui': 1150, u'unsuccess': 4044, u'stamp': 3543, u'damp': 927, u'due': 1148, u'mouthcard': 2401, u'dug': 1149, u'pa': 2601, u'unexpect': 4001, u'brick': 434, u'pm': 2757, u'alto': 111, u'flight': 1439, u'imag': 1827, u'wet': 4200, u'dislodg': 1067, u'liver': 2156, u'cummin': 901, u'look': 2177, u'hansford': 1680, u'frozen': 1519, u'rope': 3140, u'abov': 10, u'fleet': 1433, u'fixtur': 1417, u'loos': 2179, u'loop': 2178, u'pack': 2603, u'readi': 2949, u'rip': 3105, u'hoag': 1753, u'rim': 3103, u'spong': 3502, u'rig': 3100, u'bow': 415, u'rib': 3093, u'railcar': 2916, u'tailbon': 3722, u'shirt': 3322, u'eyewear': 1317, u'vibratori': 4122, u'grand': 1610, u'higher': 1737, u'hallway': 1662, u'maneuv': 2230, u'eyebolt': 1316, u'optic': 2554, u'restraint': 3069, u'wherea': 4205, u'inflat': 1869, u'flown': 1447, u'temporari': 3769, u'user': 4072, u'culvert': 900, u'lower': 2189, u'particul': 2640, u'machineri': 2207, u'cheek': 620, u'cruz': 896, u'grind': 1630, u'five': 1414, u'manhol': 2231, u'propos': 2865, u'chord': 642, u'carport': 545, u'facial': 1323, u'dioxid': 1048, u'laidlaw': 2055, u'pebbl': 2662, u'administ': 55, u'spindl': 3489, u'contractor': 812, u'subsequ': 3635, u'complaint': 758, u'marco': 2245, u'vendor': 4104, u'lincoln': 2143, u'lumbar': 2200, u'lassen': 2075, u'signag': 3357, u'epoxi': 1252, u'signal': 3358, u'toyota': 3881, u'earthquak': 1169, u'collect': 724, u'ablat': 9, u'urgent': 4065, u'unspecifi': 4040, u'debri': 955, u'dayton': 942, u'prop': 2860, u'slash': 3400, u'terex': 3780, u'amput': 127, u'run': 3160, u'stee': 3565, u'rub': 3155, u'rug': 3158, u'stem': 3569, u'aloft': 101, u'step': 3571, u'squeez': 3525, u'rus': 3168, u'rut': 3174, u'fibula': 1389, u'deceas': 957, u'sledg': 3401, u'idl': 1816, u'crawler': 873, u'block': 376, u'charl': 614, u'mezzanin': 2315, u'within': 4236, u'ensur': 1235, u'purina': 2890, u'canal': 515, u'triangl': 3923, u'murrieta': 2417, u'long': 2174, u'adjac': 53, u'sinai': 3369, u'carboxyhemoglobin': 531, u'potassium': 2790, u'frost': 1518, u'cloth': 694, u'delta': 984, u'upright': 4059, u'crane': 868, u'reel': 2990, u'specialti': 3477, u'skull': 3390, u'tensil': 3778, u'similar': 3365, u'enlarg': 1231, u'cattail': 569, u'repres': 3048, u'bicep': 349, u'huron': 1795, u'kidney': 2014, u'cotton': 850, u'rainbow': 2919, u'pronounc': 2858, u'titl': 3845, u'backf': 264, u'mock': 2359, u'draw': 1122, u'tongu': 3854, u'southmor': 3466, u'insect': 1896, u'barrel': 297, u'vice': 4123, u'dismantl': 1068, u'hydroxid': 1806, u'landmaco': 2065, u'depth': 1000, u'incandesc': 1849, u'liebherr': 2131, u'ampuat': 126, u'sonoma': 3456, u'trupro': 3937, u'lean': 2097, u'ge': 1564, u'gc': 1562, u'ga': 1536, u'go': 1588, u'gm': 1586, u'superfici': 3663, u'ammonia': 122, u'compact': 749, u'simon': 3366, u'photovolta': 2705, u'airplan': 84, u'envelop': 1244, u'arteri': 204, u'spool': 3503, u'dandi': 930, u'electron': 1195, u'trough': 3933, u'cellular': 587, u'electrod': 1193, u'patio': 2652, u'bryant': 454, u'nausea': 2434, u'fur': 1531, u'button': 492, u'overpass': 2591, u'homeown': 1766, u'prep': 2816, u'dealt': 952, u'mirag': 2342, u'barbara': 292, u'erector': 1256, u'picker': 2709, u'regain': 3006, u'smaller': 3423, u'carter': 551, u'picket': 2710, u'jump': 1991, u'fold': 1458, u'helicopt': 1722, u'untangl': 4046, u'acid': 32, u'impel': 1837, u'compar': 752, u'med': 2284, u'slight': 3408, u'cell': 585, u'jobsit': 1971, u'vibrat': 4121, u'noncontract': 2470, u'crossbrac': 887, u'astrid': 223, u'convert': 820, u'convers': 819, u'larger': 2071, u'milwauke': 2335, u'mckissik': 2273, u'geni': 1568, u'chang': 610, u'chanc': 608, u'shovel': 3339, u'clark': 664, u'danger': 931, u'duct': 1145, u'fullerton': 1525, u'approxim': 178, u'offset': 2531, u'aquamog': 182, u'volt': 4144, u'wit': 4235, u'ligament': 2135, u'motor': 2395, u'buildup': 463, u'redo': 2985, u'cloud': 695, u'reflector': 3000, u'fed': 1368, u'usc': 4069, u'usa': 4068, u'frog': 1515, u'ust': 4073, u'panel': 2620, u'remaind': 3024, u'porch': 2779, u'sore': 3458, u'heil': 1717, u'starter': 3553, u'retriev': 3080, u'ridg': 3097, u'ride': 3096, u'critic': 883, u'column': 733, u'archer': 187, u'meet': 2289, u'reoccurr': 3039, u'proof': 2859, u'control': 817, u'douglass': 1108, u'patrol': 2653, u'tar': 3739, u'carrol': 549, u'unoccupi': 4028, u'tag': 3718, u'hilton': 1744, u'serial': 3276, u'sit': 3373, u'overse': 2592, u'chevrolet': 625, u'six': 3376, u'inman': 1887, u'gochnauer': 1589, u'backho': 267, u'galleria': 1541, u'instead': 1904, u'reestablish': 2993, u'circular': 654, u'tension': 3779, u'attend': 232, u'farm': 1346, u'hazard': 1699, u'tach': 3714, u'tack': 3715, u'wrist': 4262, u'attent': 233, u'attenu': 234, u'villag': 4130, u'ungrad': 4003, u'light': 2136, u'featherboard': 1365, u'scoop': 3227, u'lubbock': 2195, u'uphil': 4054, u'pilast': 2716, u'fresno': 1511, u'tarkhanian': 3740, u'outer': 2570, u'inlet': 1885, u'sunni': 3658, u'broom': 447, u'fluidiz': 1450, u'walnut': 4158, u'permanent': 2687, u'restrain': 3068, u'holiday': 1762, u'flex': 1436, u'crash': 870, u'citrus': 659, u'flour': 1444, u'flew': 1435, u'front': 1517, u'fourthon': 1493, u'flee': 1432, u'refuel': 3004, u'trak': 3897, u'bleeder': 372, u'trap': 3905, u'blacktop': 362, u'tray': 3912, u'upward': 4064, u'chunk': 647, u'drizzl': 1136, u'usdot': 4070, u'special': 3475, u'influenc': 1871, u'discharg': 1057, u'clockwis': 686, u'hardwar': 1688, u'methacryl': 2306, u'manipul': 2235, u'loyola': 2191, u'undo': 3999, u'york': 4280, u'dumpster': 1152, u'anyhow': 157, u'tenant': 3772, u'tanker': 3735, u'unwant': 4051, u'pictur': 2712, u'florida': 1443, u'timer': 3840, u'keep': 2004, u'transfer': 3899, u'calcaneus': 504, u'christoph': 644, u'qualiti': 2901, u'cramp': 867, u'date': 936, u'prioriti': 2837, u'droop': 1137, u'paver': 2656, u'redondo': 2986, u'trembl': 3918, u'capac': 525, u'rasmussen': 2935, u'attach': 229, u'attack': 230, u'heldreth': 1719, u'accessori': 20, u'prong': 2857, u'prone': 2856, u'turnpik': 3953, u'shell': 3311, u'sz': 3711, u'shelf': 3310, u'juli': 1989, u'condominium': 782, u'schweizer': 3224, u'tissu': 3844, u'diminish': 1046, u'foliag': 1459, u'halon': 1664, u'photograph': 2704, u'holland': 1763, u'coast': 707, u'siemer': 3353, u'bed': 321, u'bee': 323, u'claim': 661, u'anaheim': 130, u'portervill': 2782, u'sq': 3520, u'reposit': 3047, u'exhibit': 1291, u'function': 1529, u'clip': 685, u'splatter': 3494, u'staduim': 3531, u'wireman': 4233, u'tabl': 3713, u'tabc': 3712, u'north': 2482, u'rotor': 3147, u'sprinkler': 3516, u'rout': 3151, u'rous': 3150, u'clovi': 696, u'unawar': 3976, u'combin': 735, u'detector': 1016, u'divers': 1086, u'singl': 3371, u'sn': 3431, u'deploy': 997, u'sl': 3395, u'bosun': 408, u'whi': 4209, u'discov': 1061, u'sc': 3209, u'awg': 257, u'class': 665, u'annulus': 146, u'plumber': 2752, u'eject': 1185, u'spleen': 3495, u'upset': 4061, u'pipe': 2724, u'deni': 991, u'determin': 1018, u'parker': 2634, u'stove': 3593, u'crate': 871, u'cannabinoid': 517, u'perfor': 2681, u'chicken': 628, u'winch': 4224, u'highest': 1738, u'locat': 2165, u'tire': 3843, u'fiberglass': 1387, u'rash': 2934, u'dispers': 1072, u'manufactur': 2243, u'enclosur': 1220, u'prejob': 2811, u'fuel': 1522, u'sulfur': 3650, u'inhabit': 1877, u'eav': 1175, u'discontinu': 1060, u'spun': 3519, u'contribut': 815, u'approv': 176, u'spud': 3518, u'joint': 1977, u'tbm': 3750, u'enabl': 1216, u'cotter': 849, u'gust': 1649, u'backov': 268, u'cutaway': 910, u'partit': 2642, u'contain': 806, u'grab': 1602, u'sediment': 3259, u'view': 4128, u'unkn': 4018, u'expel': 1297, u'shake': 3296, u'terrain': 3783, u'powder': 2796, u'spotter': 3507, u'solder': 3444, u'closer': 689, u'entranc': 1241, u'superh': 3664, u'closet': 691, u'tend': 3773, u'state': 3556, u'clavicl': 668, u'crude': 893, u'chemic': 622, u'neither': 2447, u'induc': 1864, u'tore': 3862, u'keg': 2006, u'joy': 1982, u'job': 1970, u'entir': 1240, u'joe': 1972, u'key': 2011, u'jog': 1973, u'jib': 1966, u'foremen': 1474, u'thumb': 3824, u'canopi': 518, u'samaritan': 3190, u'april': 180, u'admit': 57, u'audibl': 238, u'grain': 1609, u'stratton': 3601, u'articul': 207, u'camera': 512, u'jersey': 1964, u'unclear': 3981, u'wall': 4156, u'tuesday': 3943, u'arriv': 201, u'walk': 4154, u'owensboro': 2597, u'respect': 3059, u'rpm': 3154, u'slowli': 3416, u'tread': 3913, u'versalift': 4114, u'compon': 764, u'besid': 344, u'treat': 3914, u'dure': 1154, u'bit': 359, u'chatsworth': 618, u'tibula': 3828, u'overturn': 2596, u'digger': 1041, u'hma': 1752, u'painter': 2610, u'align': 93, u'heaton': 1712, u'chalk': 605, u'monrovia': 2381, u'fingertip': 1403, u'observ': 2513, u'layer': 2088, u'engag': 1228, u'buckl': 459, u'apprehend': 172, u'demo': 985, u'dual': 1144, u'reviv': 3086, u'bellevu': 331, u'balloon': 284, u'subcontract': 3628, u'cross': 885, u'member': 2290, u'northwest': 2488, u'underground': 3991, u'probabl': 2840, u'overexpos': 2581, u'difficult': 1037, u'joist': 1978, u'ankl': 143, u'lobbi': 2162, u'student': 3620, u'pedal': 2663, u'collar': 722, u'collap': 720, u'disloc': 1066, u'gutter': 1651, u'weld': 4189, u'lunch': 2202, u'well': 4191, u'scissor': 3225, u'breaker': 431, u'dosh': 1106, u'distanc': 1078, u'cristo': 882, u'runaway': 3162, u'percent': 2680, u'obtain': 2515, u'mistaken': 2350, u'replenish': 3045, u'unshor': 4039, u'fibril': 1388, u'sutur': 3691, u'electrician': 1191, u'skill': 3386, u'simultan': 3368, u'rapid': 2932, u'bell': 330, u'smith': 3427, u'nonrespons': 2477, u'friabl': 1512, u'hall': 1661, u'densiti': 992, u'kick': 2013, u'knob': 2027, u'rafter': 2913, u'manbasket': 2227, u'sick': 3347, u'prefabr': 2809, u'mcginn': 2271, u'utah': 4076, u'know': 2030, u'knot': 2029, u'press': 2823, u'crusher': 895, u'daewoo': 921, u'cathead': 568, u'loss': 2183, u'unplan': 4029, u'lost': 2184, u'polysubst': 2771, u'necessari': 2439, u'lose': 2182, u'exceed': 1285, u'rollercon': 3130, u'church': 648, u'vessel': 4117, u'jlg': 1968, u'francisco': 1501, u'trucker': 3935, u'home': 1765, u'librari': 2127, u'rohm': 3125, u'lead': 2093, u'overlay': 2588, u'leak': 2096, u'miner': 2337, u'overlap': 2587, u'leas': 2100, u'leap': 2098, u'estim': 1268, u'leav': 2103, u'settl': 3283, u'hvac': 1799, u'leader': 2094, u'glendal': 1581, u'investig': 1933, u'excav': 1284, u'choker': 639, u'gypsum': 1653, u'slum': 3419, u'pike': 2715, u'makita': 2221, u'hookup': 1770, u'fear': 1363, u'carrier': 548, u'sweat': 3695, u'constructor': 802, u'prestress': 2826, u'esophag': 1265, u'washington': 4168, u'automat': 244, u'diagon': 1028, u'aceton': 28, u'weather': 4181, u'empti': 1214, u'roadhead': 3116, u'mississippi': 2349, u'van': 4087, u'phalang': 2700, u'val': 4084, u'vac': 4081, u'spiral': 3492, u'misjudg': 2346, u'appl': 166, u'inner': 1889, u'cowork': 863, u'hz': 1809, u'contradictori': 813, u'shank': 3299, u'agre': 74, u'triangular': 3924, u'ht': 1785, u'hu': 1786, u'neutral': 2451, u'gain': 1539, u'technician': 3756, u'overflow': 2583, u'ear': 1164, u'mylar': 2424, u'taglin': 3719, u'brandolini': 426, u'made': 2210, u'displac': 1073, u'whether': 4208, u'injur': 1882, u'record': 2975, u'limit': 2142, u'castlewood': 557, u'reciproc': 2966, u'evalu': 1273, u'balconi': 280, u'twist': 3957, u'workabl': 4246, u'diego': 1033, u'boot': 401, u'cave': 577, u'boom': 399, u'rememb': 3027, u'stonework': 3585, u'gondola': 1593, u'june': 1995, u'stay': 3562, u'manslaught': 2239, u'preform': 2810, u'spectacl': 3480, u'experienc': 1299, u'portion': 2783, u'emerg': 1207, u'clevi': 679, u'auxiliari': 248, u'decemb': 958}\n"
     ]
    }
   ],
   "source": [
    "print(v.vocabulary_)"
   ]
  },
  {
   "cell_type": "code",
   "execution_count": 38,
   "metadata": {},
   "outputs": [
    {
     "name": "stdout",
     "output_type": "stream",
     "text": [
      "  (0, 4227)\t0.30072138056945685\n",
      "  (0, 4156)\t0.3068691783315784\n",
      "  (0, 3958)\t0.16263343693774063\n",
      "  (0, 3804)\t0.13809139021688113\n",
      "  (0, 3707)\t0.15726576640118428\n",
      "  (0, 3614)\t0.08176063009639202\n",
      "  (0, 3552)\t0.1285783174487825\n",
      "  (0, 3349)\t0.09243121522134827\n",
      "  (0, 3102)\t0.09413324269688933\n",
      "  (0, 2783)\t0.1468301619021715\n",
      "  (0, 2741)\t0.18125338396271334\n",
      "  (0, 2542)\t0.16381993098358677\n",
      "  (0, 2109)\t0.08871540807601551\n",
      "  (0, 1521)\t0.24177044194890168\n",
      "  (0, 1491)\t0.12073604366529195\n",
      "  (0, 1442)\t0.09524438489066933\n",
      "  (0, 1414)\t0.13725157532113225\n",
      "  (0, 1373)\t0.06033369242431758\n",
      "  (0, 1372)\t0.08439819719360095\n",
      "  (0, 1166)\t0.1781719052379827\n",
      "  (0, 987)\t0.1622496206050655\n",
      "  (0, 878)\t0.1105760385388721\n",
      "  (0, 691)\t0.6326340917464495\n",
      "  (0, 511)\t0.11975623972507164\n",
      "  (0, 39)\t0.13725157532113225\n",
      "  :\t:\n",
      "  (799, 2188)\t0.1100168500486541\n",
      "  (799, 2111)\t0.06604461308816252\n",
      "  (799, 2050)\t0.06779014038733765\n",
      "  (799, 1848)\t0.1100168500486541\n",
      "  (799, 1765)\t0.08434180564455929\n",
      "  (799, 1705)\t0.1100168500486541\n",
      "  (799, 1692)\t0.26728781579037203\n",
      "  (799, 1638)\t0.0477318800910801\n",
      "  (799, 1461)\t0.14160085470461614\n",
      "  (799, 1442)\t0.05781126388596779\n",
      "  (799, 1410)\t0.07100631588482369\n",
      "  (799, 1407)\t0.1404319420045322\n",
      "  (799, 1389)\t0.12361934046405786\n",
      "  (799, 1373)\t0.03662123513066795\n",
      "  (799, 1372)\t0.10245572912376907\n",
      "  (799, 1112)\t0.12361934046405786\n",
      "  (799, 1102)\t0.18105006689103642\n",
      "  (799, 844)\t0.6399918214460619\n",
      "  (799, 536)\t0.09126565890582257\n",
      "  (799, 495)\t0.07485492240841644\n",
      "  (799, 256)\t0.07692254303011446\n",
      "  (799, 235)\t0.212877854128757\n",
      "  (799, 103)\t0.08330871209639243\n",
      "  (799, 90)\t0.10486814932122633\n",
      "  (799, 39)\t0.08330871209639243\n"
     ]
    }
   ],
   "source": [
    "print(Train_X_Tfidf)"
   ]
  },
  {
   "cell_type": "code",
   "execution_count": 39,
   "metadata": {},
   "outputs": [
    {
     "ename": "ValueError",
     "evalue": "could not convert string to float: At approximately 3:45 p.m. on january 26 2012 a crew of five employees was working to demolish a storage closet measured approximately 9 ft. by 4 ft. by 12 ft. which is located on the third floor of a",
     "output_type": "error",
     "traceback": [
      "\u001b[1;31m---------------------------------------------------------------------------\u001b[0m",
      "\u001b[1;31mValueError\u001b[0m                                Traceback (most recent call last)",
      "\u001b[1;32m<ipython-input-39-6676c037cfaa>\u001b[0m in \u001b[0;36m<module>\u001b[1;34m()\u001b[0m\n\u001b[0;32m      1\u001b[0m \u001b[1;32mfrom\u001b[0m \u001b[0msklearn\u001b[0m\u001b[1;33m.\u001b[0m\u001b[0msvm\u001b[0m \u001b[1;32mimport\u001b[0m \u001b[0mSVC\u001b[0m\u001b[1;33m\u001b[0m\u001b[0m\n\u001b[0;32m      2\u001b[0m \u001b[0msvclassifier\u001b[0m \u001b[1;33m=\u001b[0m \u001b[0mSVC\u001b[0m\u001b[1;33m(\u001b[0m\u001b[0mkernel\u001b[0m\u001b[1;33m=\u001b[0m\u001b[1;34m'linear'\u001b[0m\u001b[1;33m)\u001b[0m\u001b[1;33m\u001b[0m\u001b[0m\n\u001b[1;32m----> 3\u001b[1;33m \u001b[0msvclassifier\u001b[0m\u001b[1;33m.\u001b[0m\u001b[0mfit\u001b[0m\u001b[1;33m(\u001b[0m\u001b[0mTrain_X\u001b[0m\u001b[1;33m,\u001b[0m\u001b[0mTrain_Y\u001b[0m\u001b[1;33m)\u001b[0m\u001b[1;33m\u001b[0m\u001b[0m\n\u001b[0m",
      "\u001b[1;32mC:\\Users\\veera\\Anaconda2\\lib\\site-packages\\sklearn\\svm\\base.pyc\u001b[0m in \u001b[0;36mfit\u001b[1;34m(self, X, y, sample_weight)\u001b[0m\n\u001b[0;32m    147\u001b[0m         X, y = check_X_y(X, y, dtype=np.float64,\n\u001b[0;32m    148\u001b[0m                          \u001b[0morder\u001b[0m\u001b[1;33m=\u001b[0m\u001b[1;34m'C'\u001b[0m\u001b[1;33m,\u001b[0m \u001b[0maccept_sparse\u001b[0m\u001b[1;33m=\u001b[0m\u001b[1;34m'csr'\u001b[0m\u001b[1;33m,\u001b[0m\u001b[1;33m\u001b[0m\u001b[0m\n\u001b[1;32m--> 149\u001b[1;33m                          accept_large_sparse=False)\n\u001b[0m\u001b[0;32m    150\u001b[0m         \u001b[0my\u001b[0m \u001b[1;33m=\u001b[0m \u001b[0mself\u001b[0m\u001b[1;33m.\u001b[0m\u001b[0m_validate_targets\u001b[0m\u001b[1;33m(\u001b[0m\u001b[0my\u001b[0m\u001b[1;33m)\u001b[0m\u001b[1;33m\u001b[0m\u001b[0m\n\u001b[0;32m    151\u001b[0m \u001b[1;33m\u001b[0m\u001b[0m\n",
      "\u001b[1;32mC:\\Users\\veera\\Anaconda2\\lib\\site-packages\\sklearn\\utils\\validation.pyc\u001b[0m in \u001b[0;36mcheck_X_y\u001b[1;34m(X, y, accept_sparse, accept_large_sparse, dtype, order, copy, force_all_finite, ensure_2d, allow_nd, multi_output, ensure_min_samples, ensure_min_features, y_numeric, warn_on_dtype, estimator)\u001b[0m\n\u001b[0;32m    754\u001b[0m                     \u001b[0mensure_min_features\u001b[0m\u001b[1;33m=\u001b[0m\u001b[0mensure_min_features\u001b[0m\u001b[1;33m,\u001b[0m\u001b[1;33m\u001b[0m\u001b[0m\n\u001b[0;32m    755\u001b[0m                     \u001b[0mwarn_on_dtype\u001b[0m\u001b[1;33m=\u001b[0m\u001b[0mwarn_on_dtype\u001b[0m\u001b[1;33m,\u001b[0m\u001b[1;33m\u001b[0m\u001b[0m\n\u001b[1;32m--> 756\u001b[1;33m                     estimator=estimator)\n\u001b[0m\u001b[0;32m    757\u001b[0m     \u001b[1;32mif\u001b[0m \u001b[0mmulti_output\u001b[0m\u001b[1;33m:\u001b[0m\u001b[1;33m\u001b[0m\u001b[0m\n\u001b[0;32m    758\u001b[0m         y = check_array(y, 'csr', force_all_finite=True, ensure_2d=False,\n",
      "\u001b[1;32mC:\\Users\\veera\\Anaconda2\\lib\\site-packages\\sklearn\\utils\\validation.pyc\u001b[0m in \u001b[0;36mcheck_array\u001b[1;34m(array, accept_sparse, accept_large_sparse, dtype, order, copy, force_all_finite, ensure_2d, allow_nd, ensure_min_samples, ensure_min_features, warn_on_dtype, estimator)\u001b[0m\n\u001b[0;32m    525\u001b[0m             \u001b[1;32mtry\u001b[0m\u001b[1;33m:\u001b[0m\u001b[1;33m\u001b[0m\u001b[0m\n\u001b[0;32m    526\u001b[0m                 \u001b[0mwarnings\u001b[0m\u001b[1;33m.\u001b[0m\u001b[0msimplefilter\u001b[0m\u001b[1;33m(\u001b[0m\u001b[1;34m'error'\u001b[0m\u001b[1;33m,\u001b[0m \u001b[0mComplexWarning\u001b[0m\u001b[1;33m)\u001b[0m\u001b[1;33m\u001b[0m\u001b[0m\n\u001b[1;32m--> 527\u001b[1;33m                 \u001b[0marray\u001b[0m \u001b[1;33m=\u001b[0m \u001b[0mnp\u001b[0m\u001b[1;33m.\u001b[0m\u001b[0masarray\u001b[0m\u001b[1;33m(\u001b[0m\u001b[0marray\u001b[0m\u001b[1;33m,\u001b[0m \u001b[0mdtype\u001b[0m\u001b[1;33m=\u001b[0m\u001b[0mdtype\u001b[0m\u001b[1;33m,\u001b[0m \u001b[0morder\u001b[0m\u001b[1;33m=\u001b[0m\u001b[0morder\u001b[0m\u001b[1;33m)\u001b[0m\u001b[1;33m\u001b[0m\u001b[0m\n\u001b[0m\u001b[0;32m    528\u001b[0m             \u001b[1;32mexcept\u001b[0m \u001b[0mComplexWarning\u001b[0m\u001b[1;33m:\u001b[0m\u001b[1;33m\u001b[0m\u001b[0m\n\u001b[0;32m    529\u001b[0m                 raise ValueError(\"Complex data not supported\\n\"\n",
      "\u001b[1;32mC:\\Users\\veera\\Anaconda2\\lib\\site-packages\\numpy\\core\\numeric.pyc\u001b[0m in \u001b[0;36masarray\u001b[1;34m(a, dtype, order)\u001b[0m\n\u001b[0;32m    536\u001b[0m \u001b[1;33m\u001b[0m\u001b[0m\n\u001b[0;32m    537\u001b[0m     \"\"\"\n\u001b[1;32m--> 538\u001b[1;33m     \u001b[1;32mreturn\u001b[0m \u001b[0marray\u001b[0m\u001b[1;33m(\u001b[0m\u001b[0ma\u001b[0m\u001b[1;33m,\u001b[0m \u001b[0mdtype\u001b[0m\u001b[1;33m,\u001b[0m \u001b[0mcopy\u001b[0m\u001b[1;33m=\u001b[0m\u001b[0mFalse\u001b[0m\u001b[1;33m,\u001b[0m \u001b[0morder\u001b[0m\u001b[1;33m=\u001b[0m\u001b[0morder\u001b[0m\u001b[1;33m)\u001b[0m\u001b[1;33m\u001b[0m\u001b[0m\n\u001b[0m\u001b[0;32m    539\u001b[0m \u001b[1;33m\u001b[0m\u001b[0m\n\u001b[0;32m    540\u001b[0m \u001b[1;33m\u001b[0m\u001b[0m\n",
      "\u001b[1;32mC:\\Users\\veera\\Anaconda2\\lib\\site-packages\\pandas\\core\\series.pyc\u001b[0m in \u001b[0;36m__array__\u001b[1;34m(self, dtype)\u001b[0m\n\u001b[0;32m    726\u001b[0m             \u001b[0mwarnings\u001b[0m\u001b[1;33m.\u001b[0m\u001b[0mwarn\u001b[0m\u001b[1;33m(\u001b[0m\u001b[0mmsg\u001b[0m\u001b[1;33m,\u001b[0m \u001b[0mFutureWarning\u001b[0m\u001b[1;33m,\u001b[0m \u001b[0mstacklevel\u001b[0m\u001b[1;33m=\u001b[0m\u001b[1;36m3\u001b[0m\u001b[1;33m)\u001b[0m\u001b[1;33m\u001b[0m\u001b[0m\n\u001b[0;32m    727\u001b[0m             \u001b[0mdtype\u001b[0m \u001b[1;33m=\u001b[0m \u001b[1;34m'M8[ns]'\u001b[0m\u001b[1;33m\u001b[0m\u001b[0m\n\u001b[1;32m--> 728\u001b[1;33m         \u001b[1;32mreturn\u001b[0m \u001b[0mnp\u001b[0m\u001b[1;33m.\u001b[0m\u001b[0masarray\u001b[0m\u001b[1;33m(\u001b[0m\u001b[0mself\u001b[0m\u001b[1;33m.\u001b[0m\u001b[0marray\u001b[0m\u001b[1;33m,\u001b[0m \u001b[0mdtype\u001b[0m\u001b[1;33m)\u001b[0m\u001b[1;33m\u001b[0m\u001b[0m\n\u001b[0m\u001b[0;32m    729\u001b[0m \u001b[1;33m\u001b[0m\u001b[0m\n\u001b[0;32m    730\u001b[0m     \u001b[1;32mdef\u001b[0m \u001b[0m__array_wrap__\u001b[0m\u001b[1;33m(\u001b[0m\u001b[0mself\u001b[0m\u001b[1;33m,\u001b[0m \u001b[0mresult\u001b[0m\u001b[1;33m,\u001b[0m \u001b[0mcontext\u001b[0m\u001b[1;33m=\u001b[0m\u001b[0mNone\u001b[0m\u001b[1;33m)\u001b[0m\u001b[1;33m:\u001b[0m\u001b[1;33m\u001b[0m\u001b[0m\n",
      "\u001b[1;32mC:\\Users\\veera\\Anaconda2\\lib\\site-packages\\numpy\\core\\numeric.pyc\u001b[0m in \u001b[0;36masarray\u001b[1;34m(a, dtype, order)\u001b[0m\n\u001b[0;32m    536\u001b[0m \u001b[1;33m\u001b[0m\u001b[0m\n\u001b[0;32m    537\u001b[0m     \"\"\"\n\u001b[1;32m--> 538\u001b[1;33m     \u001b[1;32mreturn\u001b[0m \u001b[0marray\u001b[0m\u001b[1;33m(\u001b[0m\u001b[0ma\u001b[0m\u001b[1;33m,\u001b[0m \u001b[0mdtype\u001b[0m\u001b[1;33m,\u001b[0m \u001b[0mcopy\u001b[0m\u001b[1;33m=\u001b[0m\u001b[0mFalse\u001b[0m\u001b[1;33m,\u001b[0m \u001b[0morder\u001b[0m\u001b[1;33m=\u001b[0m\u001b[0morder\u001b[0m\u001b[1;33m)\u001b[0m\u001b[1;33m\u001b[0m\u001b[0m\n\u001b[0m\u001b[0;32m    539\u001b[0m \u001b[1;33m\u001b[0m\u001b[0m\n\u001b[0;32m    540\u001b[0m \u001b[1;33m\u001b[0m\u001b[0m\n",
      "\u001b[1;32mC:\\Users\\veera\\Anaconda2\\lib\\site-packages\\pandas\\core\\arrays\\numpy_.pyc\u001b[0m in \u001b[0;36m__array__\u001b[1;34m(self, dtype)\u001b[0m\n\u001b[0;32m    169\u001b[0m \u001b[1;33m\u001b[0m\u001b[0m\n\u001b[0;32m    170\u001b[0m     \u001b[1;32mdef\u001b[0m \u001b[0m__array__\u001b[0m\u001b[1;33m(\u001b[0m\u001b[0mself\u001b[0m\u001b[1;33m,\u001b[0m \u001b[0mdtype\u001b[0m\u001b[1;33m=\u001b[0m\u001b[0mNone\u001b[0m\u001b[1;33m)\u001b[0m\u001b[1;33m:\u001b[0m\u001b[1;33m\u001b[0m\u001b[0m\n\u001b[1;32m--> 171\u001b[1;33m         \u001b[1;32mreturn\u001b[0m \u001b[0mnp\u001b[0m\u001b[1;33m.\u001b[0m\u001b[0masarray\u001b[0m\u001b[1;33m(\u001b[0m\u001b[0mself\u001b[0m\u001b[1;33m.\u001b[0m\u001b[0m_ndarray\u001b[0m\u001b[1;33m,\u001b[0m \u001b[0mdtype\u001b[0m\u001b[1;33m=\u001b[0m\u001b[0mdtype\u001b[0m\u001b[1;33m)\u001b[0m\u001b[1;33m\u001b[0m\u001b[0m\n\u001b[0m\u001b[0;32m    172\u001b[0m \u001b[1;33m\u001b[0m\u001b[0m\n\u001b[0;32m    173\u001b[0m     \u001b[0m_HANDLED_TYPES\u001b[0m \u001b[1;33m=\u001b[0m \u001b[1;33m(\u001b[0m\u001b[0mnp\u001b[0m\u001b[1;33m.\u001b[0m\u001b[0mndarray\u001b[0m\u001b[1;33m,\u001b[0m \u001b[0mnumbers\u001b[0m\u001b[1;33m.\u001b[0m\u001b[0mNumber\u001b[0m\u001b[1;33m)\u001b[0m\u001b[1;33m\u001b[0m\u001b[0m\n",
      "\u001b[1;32mC:\\Users\\veera\\Anaconda2\\lib\\site-packages\\numpy\\core\\numeric.pyc\u001b[0m in \u001b[0;36masarray\u001b[1;34m(a, dtype, order)\u001b[0m\n\u001b[0;32m    536\u001b[0m \u001b[1;33m\u001b[0m\u001b[0m\n\u001b[0;32m    537\u001b[0m     \"\"\"\n\u001b[1;32m--> 538\u001b[1;33m     \u001b[1;32mreturn\u001b[0m \u001b[0marray\u001b[0m\u001b[1;33m(\u001b[0m\u001b[0ma\u001b[0m\u001b[1;33m,\u001b[0m \u001b[0mdtype\u001b[0m\u001b[1;33m,\u001b[0m \u001b[0mcopy\u001b[0m\u001b[1;33m=\u001b[0m\u001b[0mFalse\u001b[0m\u001b[1;33m,\u001b[0m \u001b[0morder\u001b[0m\u001b[1;33m=\u001b[0m\u001b[0morder\u001b[0m\u001b[1;33m)\u001b[0m\u001b[1;33m\u001b[0m\u001b[0m\n\u001b[0m\u001b[0;32m    539\u001b[0m \u001b[1;33m\u001b[0m\u001b[0m\n\u001b[0;32m    540\u001b[0m \u001b[1;33m\u001b[0m\u001b[0m\n",
      "\u001b[1;31mValueError\u001b[0m: could not convert string to float: At approximately 3:45 p.m. on january 26 2012 a crew of five employees was working to demolish a storage closet measured approximately 9 ft. by 4 ft. by 12 ft. which is located on the third floor of a"
     ]
    }
   ],
   "source": [
    "from sklearn.svm import SVC\n",
    "svclassifier = SVC(kernel='linear')\n",
    "svclassifier.fit(Train_X,Train_Y)"
   ]
  },
  {
   "cell_type": "code",
   "execution_count": 41,
   "metadata": {},
   "outputs": [
    {
     "data": {
      "text/plain": [
       "SVC(C=1.0, cache_size=200, class_weight=None, coef0=0.0,\n",
       "  decision_function_shape='ovr', degree=3, gamma='auto', kernel='linear',\n",
       "  max_iter=-1, probability=False, random_state=None, shrinking=True,\n",
       "  tol=0.001, verbose=False)"
      ]
     },
     "execution_count": 41,
     "metadata": {},
     "output_type": "execute_result"
    }
   ],
   "source": [
    "SVM = svm.SVC(C=1.0, kernel='linear', degree=3, gamma='auto')\n",
    "SVM.fit(Train_X_Tfidf,Train_Y)"
   ]
  },
  {
   "cell_type": "code",
   "execution_count": 42,
   "metadata": {},
   "outputs": [],
   "source": [
    "predictions_SVM = SVM.predict(Test_X_Tfidf)"
   ]
  },
  {
   "cell_type": "code",
   "execution_count": 44,
   "metadata": {},
   "outputs": [
    {
     "name": "stdout",
     "output_type": "stream",
     "text": [
      "[[ 7  2  0  0  0  0  0  0  0  2  0]\n",
      " [ 1 21  0  0  0 13  0  2  0  2  1]\n",
      " [ 0  1 15  0  0  0  0  1  0  1  0]\n",
      " [ 0  1  0  2  0  0  0  2  0  3  0]\n",
      " [ 0  1  0  0  2  1  0  0  0  1  0]\n",
      " [ 0 11  1  0  0 35  0  0  0  1  0]\n",
      " [ 0  3  0  0  0  1  6  0  0  4  0]\n",
      " [ 0  2  1  0  0  1  0  1  0  1  0]\n",
      " [ 1  1  0  0  0  1  0  0  1  2  1]\n",
      " [ 2  7  1  0  0  4  1  0  0 16  1]\n",
      " [ 0  5  0  0  0  0  0  0  0  0  6]]\n",
      "              precision    recall  f1-score   support\n",
      "\n",
      "           0       0.64      0.64      0.64        11\n",
      "           1       0.38      0.53      0.44        40\n",
      "           2       0.83      0.83      0.83        18\n",
      "           3       1.00      0.25      0.40         8\n",
      "           4       1.00      0.40      0.57         5\n",
      "           5       0.62      0.73      0.67        48\n",
      "           6       0.86      0.43      0.57        14\n",
      "           7       0.17      0.17      0.17         6\n",
      "           8       1.00      0.14      0.25         7\n",
      "           9       0.48      0.50      0.49        32\n",
      "          10       0.67      0.55      0.60        11\n",
      "\n",
      "   micro avg       0.56      0.56      0.56       200\n",
      "   macro avg       0.70      0.47      0.51       200\n",
      "weighted avg       0.62      0.56      0.56       200\n",
      "\n",
      "0.56\n"
     ]
    }
   ],
   "source": [
    "from sklearn.metrics import classification_report, confusion_matrix, accuracy_score\n",
    "\n",
    "print(confusion_matrix(Test_Y,predictions_SVM))\n",
    "print(classification_report(Test_Y,predictions_SVM))\n",
    "print(accuracy_score(Test_Y, predictions_SVM))"
   ]
  },
  {
   "cell_type": "code",
   "execution_count": 45,
   "metadata": {},
   "outputs": [
    {
     "data": {
      "text/plain": [
       "MultinomialNB(alpha=1.0, class_prior=None, fit_prior=True)"
      ]
     },
     "execution_count": 45,
     "metadata": {},
     "output_type": "execute_result"
    }
   ],
   "source": [
    "Naive = naive_bayes.MultinomialNB()\n",
    "Naive.fit(Train_X_Tfidf,Train_Y)"
   ]
  },
  {
   "cell_type": "code",
   "execution_count": 46,
   "metadata": {},
   "outputs": [],
   "source": [
    "predictions_NB = Naive.predict(Test_X_Tfidf)"
   ]
  },
  {
   "cell_type": "code",
   "execution_count": 47,
   "metadata": {},
   "outputs": [
    {
     "name": "stdout",
     "output_type": "stream",
     "text": [
      "[[ 0  8  0  0  0  3  0  0  0  0  0]\n",
      " [ 0 16  0  0  0 24  0  0  0  0  0]\n",
      " [ 0  1 10  0  0  7  0  0  0  0  0]\n",
      " [ 0  2  0  0  0  6  0  0  0  0  0]\n",
      " [ 0  1  0  0  0  4  0  0  0  0  0]\n",
      " [ 0  3  0  0  0 45  0  0  0  0  0]\n",
      " [ 0  4  0  0  0 10  0  0  0  0  0]\n",
      " [ 0  1  0  0  0  5  0  0  0  0  0]\n",
      " [ 0  5  0  0  0  2  0  0  0  0  0]\n",
      " [ 0 11  0  0  0 16  0  0  0  5  0]\n",
      " [ 0 11  0  0  0  0  0  0  0  0  0]]\n",
      "              precision    recall  f1-score   support\n",
      "\n",
      "           0       0.00      0.00      0.00        11\n",
      "           1       0.25      0.40      0.31        40\n",
      "           2       1.00      0.56      0.71        18\n",
      "           3       0.00      0.00      0.00         8\n",
      "           4       0.00      0.00      0.00         5\n",
      "           5       0.37      0.94      0.53        48\n",
      "           6       0.00      0.00      0.00        14\n",
      "           7       0.00      0.00      0.00         6\n",
      "           8       0.00      0.00      0.00         7\n",
      "           9       1.00      0.16      0.27        32\n",
      "          10       0.00      0.00      0.00        11\n",
      "\n",
      "   micro avg       0.38      0.38      0.38       200\n",
      "   macro avg       0.24      0.19      0.17       200\n",
      "weighted avg       0.39      0.38      0.30       200\n",
      "\n",
      "0.38\n"
     ]
    },
    {
     "name": "stderr",
     "output_type": "stream",
     "text": [
      "C:\\Users\\veera\\Anaconda2\\lib\\site-packages\\sklearn\\metrics\\classification.py:1143: UndefinedMetricWarning: Precision and F-score are ill-defined and being set to 0.0 in labels with no predicted samples.\n",
      "  'precision', 'predicted', average, warn_for)\n"
     ]
    }
   ],
   "source": [
    "from sklearn.metrics import classification_report, confusion_matrix, accuracy_score\n",
    "\n",
    "print(confusion_matrix(Test_Y,predictions_NB))\n",
    "print(classification_report(Test_Y,predictions_NB))\n",
    "print(accuracy_score(Test_Y, predictions_NB))"
   ]
  },
  {
   "cell_type": "code",
   "execution_count": 48,
   "metadata": {},
   "outputs": [],
   "source": [
    "from sklearn.tree import DecisionTreeClassifier"
   ]
  },
  {
   "cell_type": "code",
   "execution_count": 50,
   "metadata": {},
   "outputs": [],
   "source": [
    "clf = DecisionTreeClassifier()\n",
    "\n",
    "# Train Decision Tree Classifer\n",
    "clf = clf.fit(Train_X_Tfidf,Train_Y)\n",
    "\n",
    "#Predict the response for test dataset\n",
    "y_pred = clf.predict((Test_X_Tfidf))"
   ]
  },
  {
   "cell_type": "code",
   "execution_count": 51,
   "metadata": {},
   "outputs": [
    {
     "name": "stdout",
     "output_type": "stream",
     "text": [
      "[[10  0  1  0  0  0  0  0  0  0  0]\n",
      " [ 2 15  1  0  0 14  0  2  2  2  2]\n",
      " [ 0  4 13  0  0  0  0  0  0  1  0]\n",
      " [ 0  1  1  2  0  0  0  2  0  2  0]\n",
      " [ 0  0  2  0  0  1  0  0  0  1  1]\n",
      " [ 0 14  1  0  0 29  0  0  2  0  2]\n",
      " [ 1  2  2  1  0  0  4  2  0  2  0]\n",
      " [ 0  1  1  0  0  0  1  3  0  0  0]\n",
      " [ 1  4  0  0  0  0  0  0  2  0  0]\n",
      " [ 3  1  1  0  0  2  1  1  1 20  2]\n",
      " [ 0  3  0  0  0  1  0  1  1  2  3]]\n",
      "              precision    recall  f1-score   support\n",
      "\n",
      "           0       0.59      0.91      0.71        11\n",
      "           1       0.33      0.38      0.35        40\n",
      "           2       0.57      0.72      0.63        18\n",
      "           3       0.67      0.25      0.36         8\n",
      "           4       0.00      0.00      0.00         5\n",
      "           5       0.62      0.60      0.61        48\n",
      "           6       0.67      0.29      0.40        14\n",
      "           7       0.27      0.50      0.35         6\n",
      "           8       0.25      0.29      0.27         7\n",
      "           9       0.67      0.62      0.65        32\n",
      "          10       0.30      0.27      0.29        11\n",
      "\n",
      "   micro avg       0.51      0.51      0.51       200\n",
      "   macro avg       0.45      0.44      0.42       200\n",
      "weighted avg       0.51      0.51      0.49       200\n",
      "\n",
      "0.505\n"
     ]
    }
   ],
   "source": [
    "from sklearn.metrics import classification_report, confusion_matrix, accuracy_score\n",
    "\n",
    "print(confusion_matrix(Test_Y,y_pred))\n",
    "print(classification_report(Test_Y,y_pred))\n",
    "print(accuracy_score(Test_Y, y_pred))"
   ]
  },
  {
   "cell_type": "code",
   "execution_count": 106,
   "metadata": {},
   "outputs": [],
   "source": [
    "from sklearn.neighbors import KNeighborsClassifier\n",
    "classifier = KNeighborsClassifier(n_neighbors=15)"
   ]
  },
  {
   "cell_type": "code",
   "execution_count": 107,
   "metadata": {},
   "outputs": [
    {
     "data": {
      "text/plain": [
       "KNeighborsClassifier(algorithm='auto', leaf_size=30, metric='minkowski',\n",
       "           metric_params=None, n_jobs=None, n_neighbors=15, p=2,\n",
       "           weights='uniform')"
      ]
     },
     "execution_count": 107,
     "metadata": {},
     "output_type": "execute_result"
    }
   ],
   "source": [
    "classifier.fit(Train_X_Tfidf,Train_Y)"
   ]
  },
  {
   "cell_type": "code",
   "execution_count": 108,
   "metadata": {},
   "outputs": [],
   "source": [
    "y_pred = classifier.predict((Test_X_Tfidf))"
   ]
  },
  {
   "cell_type": "code",
   "execution_count": 109,
   "metadata": {},
   "outputs": [
    {
     "name": "stdout",
     "output_type": "stream",
     "text": [
      "[[ 8  2  1  0  0  0  0  0  0  0  0]\n",
      " [ 0 31  0  0  0  8  0  0  0  0  1]\n",
      " [ 1  5 10  0  0  2  0  0  0  0  0]\n",
      " [ 0  3  1  2  0  0  0  0  0  1  1]\n",
      " [ 0  4  0  0  0  1  0  0  0  0  0]\n",
      " [ 0 15  1  0  0 31  0  0  0  0  1]\n",
      " [ 0  4  2  0  0  3  5  0  0  0  0]\n",
      " [ 0  3  0  0  0  2  0  0  0  1  0]\n",
      " [ 0  5  0  0  0  1  0  0  0  0  1]\n",
      " [ 1 15  0  0  0  8  0  0  0  7  1]\n",
      " [ 0  5  0  0  0  0  0  0  0  0  6]]\n",
      "              precision    recall  f1-score   support\n",
      "\n",
      "           0       0.80      0.73      0.76        11\n",
      "           1       0.34      0.78      0.47        40\n",
      "           2       0.67      0.56      0.61        18\n",
      "           3       1.00      0.25      0.40         8\n",
      "           4       0.00      0.00      0.00         5\n",
      "           5       0.55      0.65      0.60        48\n",
      "           6       1.00      0.36      0.53        14\n",
      "           7       0.00      0.00      0.00         6\n",
      "           8       0.00      0.00      0.00         7\n",
      "           9       0.78      0.22      0.34        32\n",
      "          10       0.55      0.55      0.55        11\n",
      "\n",
      "   micro avg       0.50      0.50      0.50       200\n",
      "   macro avg       0.52      0.37      0.39       200\n",
      "weighted avg       0.57      0.50      0.47       200\n",
      "\n",
      "0.5\n"
     ]
    }
   ],
   "source": [
    "from sklearn.metrics import classification_report, confusion_matrix, accuracy_score\n",
    "\n",
    "print(confusion_matrix(Test_Y,y_pred))\n",
    "print(classification_report(Test_Y,y_pred))\n",
    "print(accuracy_score(Test_Y, y_pred))"
   ]
  },
  {
   "cell_type": "code",
   "execution_count": 142,
   "metadata": {},
   "outputs": [],
   "source": [
    "from sklearn.linear_model import LogisticRegression"
   ]
  },
  {
   "cell_type": "code",
   "execution_count": 160,
   "metadata": {},
   "outputs": [
    {
     "data": {
      "text/plain": [
       "LogisticRegression(C=1.0, class_weight=None, dual=False, fit_intercept=True,\n",
       "          intercept_scaling=1, max_iter=100, multi_class='warn',\n",
       "          n_jobs=None, penalty='l2', random_state=None, solver='warn',\n",
       "          tol=0.0001, verbose=0, warm_start=False)"
      ]
     },
     "execution_count": 160,
     "metadata": {},
     "output_type": "execute_result"
    }
   ],
   "source": [
    "clf = LogisticRegression()\n",
    "clf.fit(Train_X_Tfidf,Train_Y)"
   ]
  },
  {
   "cell_type": "code",
   "execution_count": 152,
   "metadata": {},
   "outputs": [
    {
     "ename": "ValueError",
     "evalue": "X has 3428000 features per sample; expecting 4285",
     "output_type": "error",
     "traceback": [
      "\u001b[1;31m---------------------------------------------------------------------------\u001b[0m",
      "\u001b[1;31mValueError\u001b[0m                                Traceback (most recent call last)",
      "\u001b[1;32m<ipython-input-152-4133ae329696>\u001b[0m in \u001b[0;36m<module>\u001b[1;34m()\u001b[0m\n\u001b[0;32m      1\u001b[0m \u001b[0my_pred\u001b[0m \u001b[1;33m=\u001b[0m \u001b[0mclf\u001b[0m\u001b[1;33m.\u001b[0m\u001b[0mpredict\u001b[0m\u001b[1;33m(\u001b[0m\u001b[0mTrain_X_Tfidf\u001b[0m\u001b[1;33m[\u001b[0m\u001b[1;36m0\u001b[0m\u001b[1;33m]\u001b[0m\u001b[1;33m.\u001b[0m\u001b[0mreshape\u001b[0m\u001b[1;33m(\u001b[0m\u001b[1;36m1\u001b[0m\u001b[1;33m,\u001b[0m\u001b[1;33m-\u001b[0m\u001b[1;36m1\u001b[0m\u001b[1;33m)\u001b[0m\u001b[1;33m)\u001b[0m\u001b[1;33m\u001b[0m\u001b[0m\n\u001b[1;32m----> 2\u001b[1;33m \u001b[0my_pred\u001b[0m \u001b[1;33m=\u001b[0m \u001b[0mclf\u001b[0m\u001b[1;33m.\u001b[0m\u001b[0mpredict\u001b[0m\u001b[1;33m(\u001b[0m\u001b[0mTrain_X_Tfidf\u001b[0m\u001b[1;33m[\u001b[0m\u001b[1;36m0\u001b[0m\u001b[1;33m:\u001b[0m\u001b[1;36m800\u001b[0m\u001b[1;33m]\u001b[0m\u001b[1;33m.\u001b[0m\u001b[0mreshape\u001b[0m\u001b[1;33m(\u001b[0m\u001b[1;36m1\u001b[0m\u001b[1;33m,\u001b[0m\u001b[1;33m-\u001b[0m\u001b[1;36m1\u001b[0m\u001b[1;33m)\u001b[0m\u001b[1;33m)\u001b[0m\u001b[1;33m\u001b[0m\u001b[0m\n\u001b[0m",
      "\u001b[1;32mC:\\Users\\veera\\Anaconda2\\lib\\site-packages\\sklearn\\linear_model\\base.pyc\u001b[0m in \u001b[0;36mpredict\u001b[1;34m(self, X)\u001b[0m\n\u001b[0;32m    279\u001b[0m             \u001b[0mPredicted\u001b[0m \u001b[1;32mclass\u001b[0m \u001b[0mlabel\u001b[0m \u001b[0mper\u001b[0m \u001b[0msample\u001b[0m\u001b[1;33m.\u001b[0m\u001b[1;33m\u001b[0m\u001b[0m\n\u001b[0;32m    280\u001b[0m         \"\"\"\n\u001b[1;32m--> 281\u001b[1;33m         \u001b[0mscores\u001b[0m \u001b[1;33m=\u001b[0m \u001b[0mself\u001b[0m\u001b[1;33m.\u001b[0m\u001b[0mdecision_function\u001b[0m\u001b[1;33m(\u001b[0m\u001b[0mX\u001b[0m\u001b[1;33m)\u001b[0m\u001b[1;33m\u001b[0m\u001b[0m\n\u001b[0m\u001b[0;32m    282\u001b[0m         \u001b[1;32mif\u001b[0m \u001b[0mlen\u001b[0m\u001b[1;33m(\u001b[0m\u001b[0mscores\u001b[0m\u001b[1;33m.\u001b[0m\u001b[0mshape\u001b[0m\u001b[1;33m)\u001b[0m \u001b[1;33m==\u001b[0m \u001b[1;36m1\u001b[0m\u001b[1;33m:\u001b[0m\u001b[1;33m\u001b[0m\u001b[0m\n\u001b[0;32m    283\u001b[0m             \u001b[0mindices\u001b[0m \u001b[1;33m=\u001b[0m \u001b[1;33m(\u001b[0m\u001b[0mscores\u001b[0m \u001b[1;33m>\u001b[0m \u001b[1;36m0\u001b[0m\u001b[1;33m)\u001b[0m\u001b[1;33m.\u001b[0m\u001b[0mastype\u001b[0m\u001b[1;33m(\u001b[0m\u001b[0mnp\u001b[0m\u001b[1;33m.\u001b[0m\u001b[0mint\u001b[0m\u001b[1;33m)\u001b[0m\u001b[1;33m\u001b[0m\u001b[0m\n",
      "\u001b[1;32mC:\\Users\\veera\\Anaconda2\\lib\\site-packages\\sklearn\\linear_model\\base.pyc\u001b[0m in \u001b[0;36mdecision_function\u001b[1;34m(self, X)\u001b[0m\n\u001b[0;32m    260\u001b[0m         \u001b[1;32mif\u001b[0m \u001b[0mX\u001b[0m\u001b[1;33m.\u001b[0m\u001b[0mshape\u001b[0m\u001b[1;33m[\u001b[0m\u001b[1;36m1\u001b[0m\u001b[1;33m]\u001b[0m \u001b[1;33m!=\u001b[0m \u001b[0mn_features\u001b[0m\u001b[1;33m:\u001b[0m\u001b[1;33m\u001b[0m\u001b[0m\n\u001b[0;32m    261\u001b[0m             raise ValueError(\"X has %d features per sample; expecting %d\"\n\u001b[1;32m--> 262\u001b[1;33m                              % (X.shape[1], n_features))\n\u001b[0m\u001b[0;32m    263\u001b[0m \u001b[1;33m\u001b[0m\u001b[0m\n\u001b[0;32m    264\u001b[0m         scores = safe_sparse_dot(X, self.coef_.T,\n",
      "\u001b[1;31mValueError\u001b[0m: X has 3428000 features per sample; expecting 4285"
     ]
    }
   ],
   "source": [
    "y_pred = clf.predict(Train_X_Tfidf[0].reshape(1,-1))\n",
    "y_pred = clf.predict(Train_X_Tfidf[0:800].reshape(1,-1))"
   ]
  },
  {
   "cell_type": "code",
   "execution_count": 145,
   "metadata": {},
   "outputs": [],
   "source": [
    "y_pred = clf.predict(Train_X_Tfidf)"
   ]
  },
  {
   "cell_type": "code",
   "execution_count": 129,
   "metadata": {},
   "outputs": [
    {
     "data": {
      "text/plain": [
       "(200L,)"
      ]
     },
     "execution_count": 129,
     "metadata": {},
     "output_type": "execute_result"
    }
   ],
   "source": [
    "Test_Y.shape"
   ]
  },
  {
   "cell_type": "code",
   "execution_count": 170,
   "metadata": {},
   "outputs": [],
   "source": [
    "X_data = np.array(data['summary.new'])\n",
    "Y_data = np.array(data['Tagged2'])"
   ]
  },
  {
   "cell_type": "code",
   "execution_count": 172,
   "metadata": {},
   "outputs": [],
   "source": [
    "Train_X, Test_X, Train_Y, Test_Y = model_selection.train_test_split(X_data,Y_data,test_size=0.2)"
   ]
  },
  {
   "cell_type": "code",
   "execution_count": 173,
   "metadata": {},
   "outputs": [],
   "source": [
    "Encoder = LabelEncoder()\n",
    "Train_Y = Encoder.fit_transform(Train_Y)\n",
    "Test_Y = Encoder.fit_transform(Test_Y)"
   ]
  },
  {
   "cell_type": "code",
   "execution_count": 174,
   "metadata": {},
   "outputs": [],
   "source": [
    "Train_X_Tfidf = v.transform(Train_X)\n",
    "Test_X_Tfidf = v.transform(Test_X)"
   ]
  },
  {
   "cell_type": "code",
   "execution_count": 175,
   "metadata": {},
   "outputs": [],
   "source": [
    "from sklearn.linear_model import LogisticRegression"
   ]
  },
  {
   "cell_type": "code",
   "execution_count": 176,
   "metadata": {},
   "outputs": [
    {
     "data": {
      "text/plain": [
       "LogisticRegression(C=1.0, class_weight=None, dual=False, fit_intercept=True,\n",
       "          intercept_scaling=1, max_iter=100, multi_class='warn',\n",
       "          n_jobs=None, penalty='l2', random_state=None, solver='warn',\n",
       "          tol=0.0001, verbose=0, warm_start=False)"
      ]
     },
     "execution_count": 176,
     "metadata": {},
     "output_type": "execute_result"
    }
   ],
   "source": [
    "clf = LogisticRegression()\n",
    "clf.fit(Train_X_Tfidf,Train_Y)"
   ]
  },
  {
   "cell_type": "code",
   "execution_count": 163,
   "metadata": {},
   "outputs": [],
   "source": [
    "y_pred = clf.predict(Train_X_Tfidf)"
   ]
  },
  {
   "cell_type": "code",
   "execution_count": 164,
   "metadata": {},
   "outputs": [],
   "source": [
    "y_pred = clf.predict(Train_X_Tfidf)"
   ]
  },
  {
   "cell_type": "code",
   "execution_count": 165,
   "metadata": {},
   "outputs": [
    {
     "ename": "ValueError",
     "evalue": "Found input variables with inconsistent numbers of samples: [200, 800]",
     "output_type": "error",
     "traceback": [
      "\u001b[1;31m---------------------------------------------------------------------------\u001b[0m",
      "\u001b[1;31mValueError\u001b[0m                                Traceback (most recent call last)",
      "\u001b[1;32m<ipython-input-165-97914db240e2>\u001b[0m in \u001b[0;36m<module>\u001b[1;34m()\u001b[0m\n\u001b[0;32m      1\u001b[0m \u001b[1;32mfrom\u001b[0m \u001b[0msklearn\u001b[0m\u001b[1;33m.\u001b[0m\u001b[0mmetrics\u001b[0m \u001b[1;32mimport\u001b[0m \u001b[0mclassification_report\u001b[0m\u001b[1;33m,\u001b[0m \u001b[0mconfusion_matrix\u001b[0m\u001b[1;33m,\u001b[0m \u001b[0maccuracy_score\u001b[0m\u001b[1;33m\u001b[0m\u001b[0m\n\u001b[0;32m      2\u001b[0m \u001b[1;33m\u001b[0m\u001b[0m\n\u001b[1;32m----> 3\u001b[1;33m \u001b[1;32mprint\u001b[0m\u001b[1;33m(\u001b[0m\u001b[0mconfusion_matrix\u001b[0m\u001b[1;33m(\u001b[0m\u001b[0mTest_Y\u001b[0m\u001b[1;33m,\u001b[0m\u001b[0my_pred\u001b[0m\u001b[1;33m)\u001b[0m\u001b[1;33m)\u001b[0m\u001b[1;33m\u001b[0m\u001b[0m\n\u001b[0m\u001b[0;32m      4\u001b[0m \u001b[1;32mprint\u001b[0m\u001b[1;33m(\u001b[0m\u001b[0mclassification_report\u001b[0m\u001b[1;33m(\u001b[0m\u001b[0mTest_Y\u001b[0m\u001b[1;33m,\u001b[0m\u001b[0my_pred\u001b[0m\u001b[1;33m)\u001b[0m\u001b[1;33m)\u001b[0m\u001b[1;33m\u001b[0m\u001b[0m\n\u001b[0;32m      5\u001b[0m \u001b[1;32mprint\u001b[0m\u001b[1;33m(\u001b[0m\u001b[0maccuracy_score\u001b[0m\u001b[1;33m(\u001b[0m\u001b[0mTest_Y\u001b[0m\u001b[1;33m,\u001b[0m \u001b[0my_pred\u001b[0m\u001b[1;33m)\u001b[0m\u001b[1;33m)\u001b[0m\u001b[1;33m\u001b[0m\u001b[0m\n",
      "\u001b[1;32mC:\\Users\\veera\\Anaconda2\\lib\\site-packages\\sklearn\\metrics\\classification.pyc\u001b[0m in \u001b[0;36mconfusion_matrix\u001b[1;34m(y_true, y_pred, labels, sample_weight)\u001b[0m\n\u001b[0;32m    251\u001b[0m \u001b[1;33m\u001b[0m\u001b[0m\n\u001b[0;32m    252\u001b[0m     \"\"\"\n\u001b[1;32m--> 253\u001b[1;33m     \u001b[0my_type\u001b[0m\u001b[1;33m,\u001b[0m \u001b[0my_true\u001b[0m\u001b[1;33m,\u001b[0m \u001b[0my_pred\u001b[0m \u001b[1;33m=\u001b[0m \u001b[0m_check_targets\u001b[0m\u001b[1;33m(\u001b[0m\u001b[0my_true\u001b[0m\u001b[1;33m,\u001b[0m \u001b[0my_pred\u001b[0m\u001b[1;33m)\u001b[0m\u001b[1;33m\u001b[0m\u001b[0m\n\u001b[0m\u001b[0;32m    254\u001b[0m     \u001b[1;32mif\u001b[0m \u001b[0my_type\u001b[0m \u001b[1;32mnot\u001b[0m \u001b[1;32min\u001b[0m \u001b[1;33m(\u001b[0m\u001b[1;34m\"binary\"\u001b[0m\u001b[1;33m,\u001b[0m \u001b[1;34m\"multiclass\"\u001b[0m\u001b[1;33m)\u001b[0m\u001b[1;33m:\u001b[0m\u001b[1;33m\u001b[0m\u001b[0m\n\u001b[0;32m    255\u001b[0m         \u001b[1;32mraise\u001b[0m \u001b[0mValueError\u001b[0m\u001b[1;33m(\u001b[0m\u001b[1;34m\"%s is not supported\"\u001b[0m \u001b[1;33m%\u001b[0m \u001b[0my_type\u001b[0m\u001b[1;33m)\u001b[0m\u001b[1;33m\u001b[0m\u001b[0m\n",
      "\u001b[1;32mC:\\Users\\veera\\Anaconda2\\lib\\site-packages\\sklearn\\metrics\\classification.pyc\u001b[0m in \u001b[0;36m_check_targets\u001b[1;34m(y_true, y_pred)\u001b[0m\n\u001b[0;32m     69\u001b[0m     \u001b[0my_pred\u001b[0m \u001b[1;33m:\u001b[0m \u001b[0marray\u001b[0m \u001b[1;32mor\u001b[0m \u001b[0mindicator\u001b[0m \u001b[0mmatrix\u001b[0m\u001b[1;33m\u001b[0m\u001b[0m\n\u001b[0;32m     70\u001b[0m     \"\"\"\n\u001b[1;32m---> 71\u001b[1;33m     \u001b[0mcheck_consistent_length\u001b[0m\u001b[1;33m(\u001b[0m\u001b[0my_true\u001b[0m\u001b[1;33m,\u001b[0m \u001b[0my_pred\u001b[0m\u001b[1;33m)\u001b[0m\u001b[1;33m\u001b[0m\u001b[0m\n\u001b[0m\u001b[0;32m     72\u001b[0m     \u001b[0mtype_true\u001b[0m \u001b[1;33m=\u001b[0m \u001b[0mtype_of_target\u001b[0m\u001b[1;33m(\u001b[0m\u001b[0my_true\u001b[0m\u001b[1;33m)\u001b[0m\u001b[1;33m\u001b[0m\u001b[0m\n\u001b[0;32m     73\u001b[0m     \u001b[0mtype_pred\u001b[0m \u001b[1;33m=\u001b[0m \u001b[0mtype_of_target\u001b[0m\u001b[1;33m(\u001b[0m\u001b[0my_pred\u001b[0m\u001b[1;33m)\u001b[0m\u001b[1;33m\u001b[0m\u001b[0m\n",
      "\u001b[1;32mC:\\Users\\veera\\Anaconda2\\lib\\site-packages\\sklearn\\utils\\validation.pyc\u001b[0m in \u001b[0;36mcheck_consistent_length\u001b[1;34m(*arrays)\u001b[0m\n\u001b[0;32m    233\u001b[0m     \u001b[1;32mif\u001b[0m \u001b[0mlen\u001b[0m\u001b[1;33m(\u001b[0m\u001b[0muniques\u001b[0m\u001b[1;33m)\u001b[0m \u001b[1;33m>\u001b[0m \u001b[1;36m1\u001b[0m\u001b[1;33m:\u001b[0m\u001b[1;33m\u001b[0m\u001b[0m\n\u001b[0;32m    234\u001b[0m         raise ValueError(\"Found input variables with inconsistent numbers of\"\n\u001b[1;32m--> 235\u001b[1;33m                          \" samples: %r\" % [int(l) for l in lengths])\n\u001b[0m\u001b[0;32m    236\u001b[0m \u001b[1;33m\u001b[0m\u001b[0m\n\u001b[0;32m    237\u001b[0m \u001b[1;33m\u001b[0m\u001b[0m\n",
      "\u001b[1;31mValueError\u001b[0m: Found input variables with inconsistent numbers of samples: [200, 800]"
     ]
    }
   ],
   "source": [
    "from sklearn.metrics import classification_report, confusion_matrix, accuracy_score\n",
    "\n",
    "print(confusion_matrix(Test_Y,y_pred))\n",
    "print(classification_report(Test_Y,y_pred))\n",
    "print(accuracy_score(Test_Y, y_pred))"
   ]
  },
  {
   "cell_type": "code",
   "execution_count": 177,
   "metadata": {},
   "outputs": [
    {
     "name": "stdout",
     "output_type": "stream",
     "text": [
      "(200L,)\n"
     ]
    }
   ],
   "source": [
    "print(Test_Y.shape)"
   ]
  },
  {
   "cell_type": "code",
   "execution_count": 178,
   "metadata": {},
   "outputs": [
    {
     "name": "stdout",
     "output_type": "stream",
     "text": [
      "1\n"
     ]
    }
   ],
   "source": [
    "print(Test_Y.ndim)"
   ]
  },
  {
   "cell_type": "code",
   "execution_count": 179,
   "metadata": {},
   "outputs": [
    {
     "name": "stdout",
     "output_type": "stream",
     "text": [
      "(800L,)\n"
     ]
    }
   ],
   "source": [
    "print(y_pred.shape)"
   ]
  },
  {
   "cell_type": "code",
   "execution_count": 180,
   "metadata": {},
   "outputs": [
    {
     "name": "stdout",
     "output_type": "stream",
     "text": [
      "1\n"
     ]
    }
   ],
   "source": [
    "print(y_pred.ndim)"
   ]
  },
  {
   "cell_type": "code",
   "execution_count": 181,
   "metadata": {},
   "outputs": [
    {
     "data": {
      "text/plain": [
       "array([ 1,  2,  8,  9,  6,  1,  0,  5,  9,  9,  5,  1, 10,  9,  1,  9,  2,\n",
       "        9, 10,  8,  1,  1,  6,  1,  2,  8,  5, 10,  9,  1,  9,  8,  3,  9,\n",
       "        1,  9,  5,  1,  5,  8,  5,  5,  1,  0,  1,  5,  5,  0,  1,  2,  1,\n",
       "        5,  5,  5,  9,  5,  1,  7,  5,  4,  9,  1,  2,  4,  0,  5,  1,  9,\n",
       "        2,  2,  5,  8, 10,  0,  1,  5,  2,  1,  7,  4,  2,  1,  5,  9,  1,\n",
       "        2,  5,  9,  5,  1,  7,  2,  9,  5,  1,  8,  1,  0,  5,  0,  2,  5,\n",
       "        0, 10,  3,  9,  1,  1,  5,  5,  2,  9,  6, 10,  6, 10,  7,  1, 10,\n",
       "        2,  1,  0,  1,  0,  1,  9,  9,  5,  9,  1,  5, 10,  1,  6,  9,  5,\n",
       "        8,  5,  9,  5,  1,  3,  1,  1,  5,  2, 10,  5,  5,  5,  2,  5,  5,\n",
       "        1,  6,  0,  9,  5,  5,  5,  5,  0,  0,  5,  5,  2,  9,  5,  1,  2,\n",
       "        1,  0,  1,  2,  2,  8,  6,  1,  6,  1,  0,  0,  1,  6,  5,  1,  2,\n",
       "        1,  3,  1,  0,  8,  9,  8,  2,  1, 10,  9,  7,  7])"
      ]
     },
     "execution_count": 181,
     "metadata": {},
     "output_type": "execute_result"
    }
   ],
   "source": [
    "Test_Y"
   ]
  },
  {
   "cell_type": "code",
   "execution_count": 191,
   "metadata": {},
   "outputs": [],
   "source": [
    "N = 600\n",
    "W=np.pad(Test_Y, (0,N),'constant')"
   ]
  },
  {
   "cell_type": "code",
   "execution_count": 192,
   "metadata": {},
   "outputs": [
    {
     "name": "stdout",
     "output_type": "stream",
     "text": [
      "(800L,)\n"
     ]
    }
   ],
   "source": [
    "print(W.shape)"
   ]
  },
  {
   "cell_type": "code",
   "execution_count": 193,
   "metadata": {},
   "outputs": [
    {
     "name": "stdout",
     "output_type": "stream",
     "text": [
      "[[ 28 170  70  12   1 185  16   3   5  93  34]\n",
      " [  0  12   3   2   0  14   1   2   0   9   3]\n",
      " [  1   3   3   0   0  13   0   0   0   1   1]\n",
      " [  0   1   1   0   0   2   0   0   0   0   0]\n",
      " [  0   1   1   0   0   0   0   0   0   1   0]\n",
      " [  1  17   2   1   0   8   3   2   2   5   3]\n",
      " [  0   2   0   0   0   4   0   0   1   2   0]\n",
      " [  1   1   3   0   0   1   0   0   0   0   0]\n",
      " [  1   2   1   0   0   4   0   0   0   2   1]\n",
      " [  2   6   2   1   0  10   2   0   0   2   2]\n",
      " [  1   2   1   0   0   5   0   2   0   0   0]]\n",
      "              precision    recall  f1-score   support\n",
      "\n",
      "           0       0.80      0.05      0.09       617\n",
      "           1       0.06      0.26      0.09        46\n",
      "           2       0.03      0.14      0.06        22\n",
      "           3       0.00      0.00      0.00         4\n",
      "           4       0.00      0.00      0.00         3\n",
      "           5       0.03      0.18      0.06        44\n",
      "           6       0.00      0.00      0.00         9\n",
      "           7       0.00      0.00      0.00         6\n",
      "           8       0.00      0.00      0.00        11\n",
      "           9       0.02      0.07      0.03        27\n",
      "          10       0.00      0.00      0.00        11\n",
      "\n",
      "   micro avg       0.07      0.07      0.07       800\n",
      "   macro avg       0.09      0.06      0.03       800\n",
      "weighted avg       0.62      0.07      0.08       800\n",
      "\n",
      "0.06625\n"
     ]
    }
   ],
   "source": [
    "from sklearn.metrics import classification_report, confusion_matrix, accuracy_score\n",
    "\n",
    "print(confusion_matrix(W,y_pred))\n",
    "print(classification_report(W,y_pred))\n",
    "print(accuracy_score(W, y_pred))"
   ]
  },
  {
   "cell_type": "code",
   "execution_count": 194,
   "metadata": {},
   "outputs": [],
   "source": [
    "import seaborn as sn"
   ]
  },
  {
   "cell_type": "code",
   "execution_count": 195,
   "metadata": {},
   "outputs": [
    {
     "ename": "ValueError",
     "evalue": "arrays must all be same length",
     "output_type": "error",
     "traceback": [
      "\u001b[1;31m---------------------------------------------------------------------------\u001b[0m",
      "\u001b[1;31mValueError\u001b[0m                                Traceback (most recent call last)",
      "\u001b[1;32m<ipython-input-195-afc2a3517a5b>\u001b[0m in \u001b[0;36m<module>\u001b[1;34m()\u001b[0m\n\u001b[1;32m----> 1\u001b[1;33m \u001b[0mconfusion_matrix\u001b[0m \u001b[1;33m=\u001b[0m \u001b[0mpd\u001b[0m\u001b[1;33m.\u001b[0m\u001b[0mcrosstab\u001b[0m\u001b[1;33m(\u001b[0m\u001b[0mTest_Y\u001b[0m\u001b[1;33m,\u001b[0m\u001b[0my_pred\u001b[0m\u001b[1;33m)\u001b[0m\u001b[1;33m\u001b[0m\u001b[0m\n\u001b[0m",
      "\u001b[1;32mC:\\Users\\veera\\Anaconda2\\lib\\site-packages\\pandas\\core\\reshape\\pivot.pyc\u001b[0m in \u001b[0;36mcrosstab\u001b[1;34m(index, columns, values, rownames, colnames, aggfunc, margins, margins_name, dropna, normalize)\u001b[0m\n\u001b[0;32m    509\u001b[0m \u001b[1;33m\u001b[0m\u001b[0m\n\u001b[0;32m    510\u001b[0m     \u001b[1;32mfrom\u001b[0m \u001b[0mpandas\u001b[0m \u001b[1;32mimport\u001b[0m \u001b[0mDataFrame\u001b[0m\u001b[1;33m\u001b[0m\u001b[0m\n\u001b[1;32m--> 511\u001b[1;33m     \u001b[0mdf\u001b[0m \u001b[1;33m=\u001b[0m \u001b[0mDataFrame\u001b[0m\u001b[1;33m(\u001b[0m\u001b[0mdata\u001b[0m\u001b[1;33m,\u001b[0m \u001b[0mindex\u001b[0m\u001b[1;33m=\u001b[0m\u001b[0mcommon_idx\u001b[0m\u001b[1;33m)\u001b[0m\u001b[1;33m\u001b[0m\u001b[0m\n\u001b[0m\u001b[0;32m    512\u001b[0m     \u001b[1;32mif\u001b[0m \u001b[0mvalues\u001b[0m \u001b[1;32mis\u001b[0m \u001b[0mNone\u001b[0m\u001b[1;33m:\u001b[0m\u001b[1;33m\u001b[0m\u001b[0m\n\u001b[0;32m    513\u001b[0m         \u001b[0mdf\u001b[0m\u001b[1;33m[\u001b[0m\u001b[1;34m'__dummy__'\u001b[0m\u001b[1;33m]\u001b[0m \u001b[1;33m=\u001b[0m \u001b[1;36m0\u001b[0m\u001b[1;33m\u001b[0m\u001b[0m\n",
      "\u001b[1;32mC:\\Users\\veera\\Anaconda2\\lib\\site-packages\\pandas\\core\\frame.pyc\u001b[0m in \u001b[0;36m__init__\u001b[1;34m(self, data, index, columns, dtype, copy)\u001b[0m\n\u001b[0;32m    390\u001b[0m                                  dtype=dtype, copy=copy)\n\u001b[0;32m    391\u001b[0m         \u001b[1;32melif\u001b[0m \u001b[0misinstance\u001b[0m\u001b[1;33m(\u001b[0m\u001b[0mdata\u001b[0m\u001b[1;33m,\u001b[0m \u001b[0mdict\u001b[0m\u001b[1;33m)\u001b[0m\u001b[1;33m:\u001b[0m\u001b[1;33m\u001b[0m\u001b[0m\n\u001b[1;32m--> 392\u001b[1;33m             \u001b[0mmgr\u001b[0m \u001b[1;33m=\u001b[0m \u001b[0minit_dict\u001b[0m\u001b[1;33m(\u001b[0m\u001b[0mdata\u001b[0m\u001b[1;33m,\u001b[0m \u001b[0mindex\u001b[0m\u001b[1;33m,\u001b[0m \u001b[0mcolumns\u001b[0m\u001b[1;33m,\u001b[0m \u001b[0mdtype\u001b[0m\u001b[1;33m=\u001b[0m\u001b[0mdtype\u001b[0m\u001b[1;33m)\u001b[0m\u001b[1;33m\u001b[0m\u001b[0m\n\u001b[0m\u001b[0;32m    393\u001b[0m         \u001b[1;32melif\u001b[0m \u001b[0misinstance\u001b[0m\u001b[1;33m(\u001b[0m\u001b[0mdata\u001b[0m\u001b[1;33m,\u001b[0m \u001b[0mma\u001b[0m\u001b[1;33m.\u001b[0m\u001b[0mMaskedArray\u001b[0m\u001b[1;33m)\u001b[0m\u001b[1;33m:\u001b[0m\u001b[1;33m\u001b[0m\u001b[0m\n\u001b[0;32m    394\u001b[0m             \u001b[1;32mimport\u001b[0m \u001b[0mnumpy\u001b[0m\u001b[1;33m.\u001b[0m\u001b[0mma\u001b[0m\u001b[1;33m.\u001b[0m\u001b[0mmrecords\u001b[0m \u001b[1;32mas\u001b[0m \u001b[0mmrecords\u001b[0m\u001b[1;33m\u001b[0m\u001b[0m\n",
      "\u001b[1;32mC:\\Users\\veera\\Anaconda2\\lib\\site-packages\\pandas\\core\\internals\\construction.pyc\u001b[0m in \u001b[0;36minit_dict\u001b[1;34m(data, index, columns, dtype)\u001b[0m\n\u001b[0;32m    210\u001b[0m         \u001b[0marrays\u001b[0m \u001b[1;33m=\u001b[0m \u001b[1;33m[\u001b[0m\u001b[0mdata\u001b[0m\u001b[1;33m[\u001b[0m\u001b[0mk\u001b[0m\u001b[1;33m]\u001b[0m \u001b[1;32mfor\u001b[0m \u001b[0mk\u001b[0m \u001b[1;32min\u001b[0m \u001b[0mkeys\u001b[0m\u001b[1;33m]\u001b[0m\u001b[1;33m\u001b[0m\u001b[0m\n\u001b[0;32m    211\u001b[0m \u001b[1;33m\u001b[0m\u001b[0m\n\u001b[1;32m--> 212\u001b[1;33m     \u001b[1;32mreturn\u001b[0m \u001b[0marrays_to_mgr\u001b[0m\u001b[1;33m(\u001b[0m\u001b[0marrays\u001b[0m\u001b[1;33m,\u001b[0m \u001b[0mdata_names\u001b[0m\u001b[1;33m,\u001b[0m \u001b[0mindex\u001b[0m\u001b[1;33m,\u001b[0m \u001b[0mcolumns\u001b[0m\u001b[1;33m,\u001b[0m \u001b[0mdtype\u001b[0m\u001b[1;33m=\u001b[0m\u001b[0mdtype\u001b[0m\u001b[1;33m)\u001b[0m\u001b[1;33m\u001b[0m\u001b[0m\n\u001b[0m\u001b[0;32m    213\u001b[0m \u001b[1;33m\u001b[0m\u001b[0m\n\u001b[0;32m    214\u001b[0m \u001b[1;33m\u001b[0m\u001b[0m\n",
      "\u001b[1;32mC:\\Users\\veera\\Anaconda2\\lib\\site-packages\\pandas\\core\\internals\\construction.pyc\u001b[0m in \u001b[0;36marrays_to_mgr\u001b[1;34m(arrays, arr_names, index, columns, dtype)\u001b[0m\n\u001b[0;32m     49\u001b[0m     \u001b[1;31m# figure out the index, if necessary\u001b[0m\u001b[1;33m\u001b[0m\u001b[1;33m\u001b[0m\u001b[0m\n\u001b[0;32m     50\u001b[0m     \u001b[1;32mif\u001b[0m \u001b[0mindex\u001b[0m \u001b[1;32mis\u001b[0m \u001b[0mNone\u001b[0m\u001b[1;33m:\u001b[0m\u001b[1;33m\u001b[0m\u001b[0m\n\u001b[1;32m---> 51\u001b[1;33m         \u001b[0mindex\u001b[0m \u001b[1;33m=\u001b[0m \u001b[0mextract_index\u001b[0m\u001b[1;33m(\u001b[0m\u001b[0marrays\u001b[0m\u001b[1;33m)\u001b[0m\u001b[1;33m\u001b[0m\u001b[0m\n\u001b[0m\u001b[0;32m     52\u001b[0m     \u001b[1;32melse\u001b[0m\u001b[1;33m:\u001b[0m\u001b[1;33m\u001b[0m\u001b[0m\n\u001b[0;32m     53\u001b[0m         \u001b[0mindex\u001b[0m \u001b[1;33m=\u001b[0m \u001b[0mensure_index\u001b[0m\u001b[1;33m(\u001b[0m\u001b[0mindex\u001b[0m\u001b[1;33m)\u001b[0m\u001b[1;33m\u001b[0m\u001b[0m\n",
      "\u001b[1;32mC:\\Users\\veera\\Anaconda2\\lib\\site-packages\\pandas\\core\\internals\\construction.pyc\u001b[0m in \u001b[0;36mextract_index\u001b[1;34m(data)\u001b[0m\n\u001b[0;32m    315\u001b[0m             \u001b[0mlengths\u001b[0m \u001b[1;33m=\u001b[0m \u001b[0mlist\u001b[0m\u001b[1;33m(\u001b[0m\u001b[0mset\u001b[0m\u001b[1;33m(\u001b[0m\u001b[0mraw_lengths\u001b[0m\u001b[1;33m)\u001b[0m\u001b[1;33m)\u001b[0m\u001b[1;33m\u001b[0m\u001b[0m\n\u001b[0;32m    316\u001b[0m             \u001b[1;32mif\u001b[0m \u001b[0mlen\u001b[0m\u001b[1;33m(\u001b[0m\u001b[0mlengths\u001b[0m\u001b[1;33m)\u001b[0m \u001b[1;33m>\u001b[0m \u001b[1;36m1\u001b[0m\u001b[1;33m:\u001b[0m\u001b[1;33m\u001b[0m\u001b[0m\n\u001b[1;32m--> 317\u001b[1;33m                 \u001b[1;32mraise\u001b[0m \u001b[0mValueError\u001b[0m\u001b[1;33m(\u001b[0m\u001b[1;34m'arrays must all be same length'\u001b[0m\u001b[1;33m)\u001b[0m\u001b[1;33m\u001b[0m\u001b[0m\n\u001b[0m\u001b[0;32m    318\u001b[0m \u001b[1;33m\u001b[0m\u001b[0m\n\u001b[0;32m    319\u001b[0m             \u001b[1;32mif\u001b[0m \u001b[0mhave_dicts\u001b[0m\u001b[1;33m:\u001b[0m\u001b[1;33m\u001b[0m\u001b[0m\n",
      "\u001b[1;31mValueError\u001b[0m: arrays must all be same length"
     ]
    }
   ],
   "source": [
    "confusion_matrix = pd.crosstab(Test_Y,y_pred)"
   ]
  },
  {
   "cell_type": "code",
   "execution_count": null,
   "metadata": {},
   "outputs": [],
   "source": []
  }
 ],
 "metadata": {
  "kernelspec": {
   "display_name": "Python 2",
   "language": "python",
   "name": "python2"
  },
  "language_info": {
   "codemirror_mode": {
    "name": "ipython",
    "version": 2
   },
   "file_extension": ".py",
   "mimetype": "text/x-python",
   "name": "python",
   "nbconvert_exporter": "python",
   "pygments_lexer": "ipython2",
   "version": "2.7.16"
  }
 },
 "nbformat": 4,
 "nbformat_minor": 2
}
